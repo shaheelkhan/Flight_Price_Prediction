{
 "cells": [
  {
   "cell_type": "markdown",
   "metadata": {},
   "source": [
    "## Flight Fare Prediction"
   ]
  },
  {
   "cell_type": "code",
   "execution_count": 1,
   "metadata": {
    "executionInfo": {
     "elapsed": 2768,
     "status": "ok",
     "timestamp": 1607017013545,
     "user": {
      "displayName": "Shaheel Roshankhan",
      "photoUrl": "",
      "userId": "16400899464928356374"
     },
     "user_tz": -330
    },
    "id": "m9yhIOuSM0g2"
   },
   "outputs": [],
   "source": [
    "#Import necessary libraries\n",
    "import os\n",
    "import pandas as pd\n",
    "import numpy as np\n",
    "import matplotlib.pyplot as plt\n",
    "import seaborn as sns\n",
    "import warnings\n",
    "warnings.filterwarnings(\"ignore\")\n",
    "\n",
    "pd.set_option('display.max_columns', None)"
   ]
  },
  {
   "cell_type": "code",
   "execution_count": 32,
   "metadata": {
    "executionInfo": {
     "elapsed": 4907,
     "status": "ok",
     "timestamp": 1607017019989,
     "user": {
      "displayName": "Shaheel Roshankhan",
      "photoUrl": "",
      "userId": "16400899464928356374"
     },
     "user_tz": -330
    },
    "id": "cU8gb_ZPM-tY"
   },
   "outputs": [],
   "source": [
    "#Load the data\n",
    "flight_train = pd.read_excel('flight_train.xlsx')"
   ]
  },
  {
   "cell_type": "code",
   "execution_count": 33,
   "metadata": {
    "colab": {
     "base_uri": "https://localhost:8080/",
     "height": 204
    },
    "executionInfo": {
     "elapsed": 1376,
     "status": "ok",
     "timestamp": 1607017035388,
     "user": {
      "displayName": "Shaheel Roshankhan",
      "photoUrl": "",
      "userId": "16400899464928356374"
     },
     "user_tz": -330
    },
    "id": "srLMGXPMNASC",
    "outputId": "9c6e3ef4-68ec-431e-bbd5-550118510657"
   },
   "outputs": [
    {
     "data": {
      "text/html": [
       "<div>\n",
       "<style scoped>\n",
       "    .dataframe tbody tr th:only-of-type {\n",
       "        vertical-align: middle;\n",
       "    }\n",
       "\n",
       "    .dataframe tbody tr th {\n",
       "        vertical-align: top;\n",
       "    }\n",
       "\n",
       "    .dataframe thead th {\n",
       "        text-align: right;\n",
       "    }\n",
       "</style>\n",
       "<table border=\"1\" class=\"dataframe\">\n",
       "  <thead>\n",
       "    <tr style=\"text-align: right;\">\n",
       "      <th></th>\n",
       "      <th>Airline</th>\n",
       "      <th>Date_of_Journey</th>\n",
       "      <th>Source</th>\n",
       "      <th>Destination</th>\n",
       "      <th>Route</th>\n",
       "      <th>Dep_Time</th>\n",
       "      <th>Arrival_Time</th>\n",
       "      <th>Duration</th>\n",
       "      <th>Total_Stops</th>\n",
       "      <th>Additional_Info</th>\n",
       "      <th>Price</th>\n",
       "    </tr>\n",
       "  </thead>\n",
       "  <tbody>\n",
       "    <tr>\n",
       "      <th>0</th>\n",
       "      <td>IndiGo</td>\n",
       "      <td>24/03/2019</td>\n",
       "      <td>Banglore</td>\n",
       "      <td>New Delhi</td>\n",
       "      <td>BLR → DEL</td>\n",
       "      <td>22:20</td>\n",
       "      <td>01:10 22 Mar</td>\n",
       "      <td>2h 50m</td>\n",
       "      <td>non-stop</td>\n",
       "      <td>No info</td>\n",
       "      <td>3897</td>\n",
       "    </tr>\n",
       "    <tr>\n",
       "      <th>1</th>\n",
       "      <td>Air India</td>\n",
       "      <td>1/05/2019</td>\n",
       "      <td>Kolkata</td>\n",
       "      <td>Banglore</td>\n",
       "      <td>CCU → IXR → BBI → BLR</td>\n",
       "      <td>05:50</td>\n",
       "      <td>13:15</td>\n",
       "      <td>7h 25m</td>\n",
       "      <td>2 stops</td>\n",
       "      <td>No info</td>\n",
       "      <td>7662</td>\n",
       "    </tr>\n",
       "    <tr>\n",
       "      <th>2</th>\n",
       "      <td>Jet Airways</td>\n",
       "      <td>9/06/2019</td>\n",
       "      <td>Delhi</td>\n",
       "      <td>Cochin</td>\n",
       "      <td>DEL → LKO → BOM → COK</td>\n",
       "      <td>09:25</td>\n",
       "      <td>04:25 10 Jun</td>\n",
       "      <td>19h</td>\n",
       "      <td>2 stops</td>\n",
       "      <td>No info</td>\n",
       "      <td>13882</td>\n",
       "    </tr>\n",
       "    <tr>\n",
       "      <th>3</th>\n",
       "      <td>IndiGo</td>\n",
       "      <td>12/05/2019</td>\n",
       "      <td>Kolkata</td>\n",
       "      <td>Banglore</td>\n",
       "      <td>CCU → NAG → BLR</td>\n",
       "      <td>18:05</td>\n",
       "      <td>23:30</td>\n",
       "      <td>5h 25m</td>\n",
       "      <td>1 stop</td>\n",
       "      <td>No info</td>\n",
       "      <td>6218</td>\n",
       "    </tr>\n",
       "    <tr>\n",
       "      <th>4</th>\n",
       "      <td>IndiGo</td>\n",
       "      <td>01/03/2019</td>\n",
       "      <td>Banglore</td>\n",
       "      <td>New Delhi</td>\n",
       "      <td>BLR → NAG → DEL</td>\n",
       "      <td>16:50</td>\n",
       "      <td>21:35</td>\n",
       "      <td>4h 45m</td>\n",
       "      <td>1 stop</td>\n",
       "      <td>No info</td>\n",
       "      <td>13302</td>\n",
       "    </tr>\n",
       "  </tbody>\n",
       "</table>\n",
       "</div>"
      ],
      "text/plain": [
       "       Airline Date_of_Journey    Source Destination                  Route  \\\n",
       "0       IndiGo      24/03/2019  Banglore   New Delhi              BLR → DEL   \n",
       "1    Air India       1/05/2019   Kolkata    Banglore  CCU → IXR → BBI → BLR   \n",
       "2  Jet Airways       9/06/2019     Delhi      Cochin  DEL → LKO → BOM → COK   \n",
       "3       IndiGo      12/05/2019   Kolkata    Banglore        CCU → NAG → BLR   \n",
       "4       IndiGo      01/03/2019  Banglore   New Delhi        BLR → NAG → DEL   \n",
       "\n",
       "  Dep_Time  Arrival_Time Duration Total_Stops Additional_Info  Price  \n",
       "0    22:20  01:10 22 Mar   2h 50m    non-stop         No info   3897  \n",
       "1    05:50         13:15   7h 25m     2 stops         No info   7662  \n",
       "2    09:25  04:25 10 Jun      19h     2 stops         No info  13882  \n",
       "3    18:05         23:30   5h 25m      1 stop         No info   6218  \n",
       "4    16:50         21:35   4h 45m      1 stop         No info  13302  "
      ]
     },
     "execution_count": 33,
     "metadata": {},
     "output_type": "execute_result"
    }
   ],
   "source": [
    "#Check the head\n",
    "flight_train.head()"
   ]
  },
  {
   "cell_type": "code",
   "execution_count": 34,
   "metadata": {
    "colab": {
     "base_uri": "https://localhost:8080/"
    },
    "executionInfo": {
     "elapsed": 1050,
     "status": "ok",
     "timestamp": 1607017040443,
     "user": {
      "displayName": "Shaheel Roshankhan",
      "photoUrl": "",
      "userId": "16400899464928356374"
     },
     "user_tz": -330
    },
    "id": "ZnkN7ajbNBq6",
    "outputId": "c53d5e81-20c9-403b-e66a-6575a8ec4020"
   },
   "outputs": [
    {
     "data": {
      "text/plain": [
       "(10683, 11)"
      ]
     },
     "execution_count": 34,
     "metadata": {},
     "output_type": "execute_result"
    }
   ],
   "source": [
    "#Check the shape\n",
    "flight_train.shape"
   ]
  },
  {
   "cell_type": "code",
   "execution_count": 35,
   "metadata": {
    "colab": {
     "base_uri": "https://localhost:8080/"
    },
    "executionInfo": {
     "elapsed": 1106,
     "status": "ok",
     "timestamp": 1607017045949,
     "user": {
      "displayName": "Shaheel Roshankhan",
      "photoUrl": "",
      "userId": "16400899464928356374"
     },
     "user_tz": -330
    },
    "id": "8I1SSMx5NEYm",
    "outputId": "d76e6116-7bd0-4675-8b70-f5f0b28dbfe0"
   },
   "outputs": [
    {
     "name": "stdout",
     "output_type": "stream",
     "text": [
      "<class 'pandas.core.frame.DataFrame'>\n",
      "RangeIndex: 10683 entries, 0 to 10682\n",
      "Data columns (total 11 columns):\n",
      "Airline            10683 non-null object\n",
      "Date_of_Journey    10683 non-null object\n",
      "Source             10683 non-null object\n",
      "Destination        10683 non-null object\n",
      "Route              10682 non-null object\n",
      "Dep_Time           10683 non-null object\n",
      "Arrival_Time       10683 non-null object\n",
      "Duration           10683 non-null object\n",
      "Total_Stops        10682 non-null object\n",
      "Additional_Info    10683 non-null object\n",
      "Price              10683 non-null int64\n",
      "dtypes: int64(1), object(10)\n",
      "memory usage: 918.1+ KB\n"
     ]
    }
   ],
   "source": [
    "#Check the structure of dataset\n",
    "flight_train.info()"
   ]
  },
  {
   "cell_type": "code",
   "execution_count": 36,
   "metadata": {
    "colab": {
     "base_uri": "https://localhost:8080/"
    },
    "executionInfo": {
     "elapsed": 1927,
     "status": "ok",
     "timestamp": 1607017051235,
     "user": {
      "displayName": "Shaheel Roshankhan",
      "photoUrl": "",
      "userId": "16400899464928356374"
     },
     "user_tz": -330
    },
    "id": "V3TebkiMNE0Z",
    "outputId": "f54007b3-a7da-4d3b-9a6a-d076584c80b8"
   },
   "outputs": [
    {
     "data": {
      "text/plain": [
       "Airline            0\n",
       "Date_of_Journey    0\n",
       "Source             0\n",
       "Destination        0\n",
       "Route              1\n",
       "Dep_Time           0\n",
       "Arrival_Time       0\n",
       "Duration           0\n",
       "Total_Stops        1\n",
       "Additional_Info    0\n",
       "Price              0\n",
       "dtype: int64"
      ]
     },
     "execution_count": 36,
     "metadata": {},
     "output_type": "execute_result"
    }
   ],
   "source": [
    "#Check for any missing data\n",
    "flight_train.isnull().sum()"
   ]
  },
  {
   "cell_type": "markdown",
   "metadata": {
    "id": "0d6zzEhJNMFe"
   },
   "source": [
    "Since there is only 1 missing data point, lets remove it\n"
   ]
  },
  {
   "cell_type": "code",
   "execution_count": 37,
   "metadata": {
    "executionInfo": {
     "elapsed": 1181,
     "status": "ok",
     "timestamp": 1607017054968,
     "user": {
      "displayName": "Shaheel Roshankhan",
      "photoUrl": "",
      "userId": "16400899464928356374"
     },
     "user_tz": -330
    },
    "id": "BgKO9PtONE3Z"
   },
   "outputs": [],
   "source": [
    "flight_train.dropna(inplace=True)"
   ]
  },
  {
   "cell_type": "code",
   "execution_count": 38,
   "metadata": {
    "colab": {
     "base_uri": "https://localhost:8080/"
    },
    "executionInfo": {
     "elapsed": 1120,
     "status": "ok",
     "timestamp": 1607017060686,
     "user": {
      "displayName": "Shaheel Roshankhan",
      "photoUrl": "",
      "userId": "16400899464928356374"
     },
     "user_tz": -330
    },
    "id": "5gIAHMooNE6H",
    "outputId": "f3e5e480-0608-4ca7-aefb-9c020beb12b9"
   },
   "outputs": [
    {
     "data": {
      "text/plain": [
       "(10682, 11)"
      ]
     },
     "execution_count": 38,
     "metadata": {},
     "output_type": "execute_result"
    }
   ],
   "source": [
    "flight_train.shape"
   ]
  },
  {
   "cell_type": "markdown",
   "metadata": {
    "id": "I__2ur6ONSKv"
   },
   "source": [
    "**Exploratory Data Analysis**"
   ]
  },
  {
   "cell_type": "code",
   "execution_count": 39,
   "metadata": {
    "colab": {
     "base_uri": "https://localhost:8080/"
    },
    "executionInfo": {
     "elapsed": 1171,
     "status": "ok",
     "timestamp": 1607017065313,
     "user": {
      "displayName": "Shaheel Roshankhan",
      "photoUrl": "",
      "userId": "16400899464928356374"
     },
     "user_tz": -330
    },
    "id": "Va87kuLWNE86",
    "outputId": "f3d48ff3-176a-42b1-a313-59fec55ec0fa"
   },
   "outputs": [
    {
     "data": {
      "text/plain": [
       "Jet Airways                          3849\n",
       "IndiGo                               2053\n",
       "Air India                            1751\n",
       "Multiple carriers                    1196\n",
       "SpiceJet                              818\n",
       "Vistara                               479\n",
       "Air Asia                              319\n",
       "GoAir                                 194\n",
       "Multiple carriers Premium economy      13\n",
       "Jet Airways Business                    6\n",
       "Vistara Premium economy                 3\n",
       "Trujet                                  1\n",
       "Name: Airline, dtype: int64"
      ]
     },
     "execution_count": 39,
     "metadata": {},
     "output_type": "execute_result"
    }
   ],
   "source": [
    "#Check count of each unique Airlines\n",
    "flight_train['Airline'].value_counts()"
   ]
  },
  {
   "cell_type": "code",
   "execution_count": 40,
   "metadata": {
    "colab": {
     "base_uri": "https://localhost:8080/",
     "height": 553
    },
    "executionInfo": {
     "elapsed": 1808,
     "status": "ok",
     "timestamp": 1607017069344,
     "user": {
      "displayName": "Shaheel Roshankhan",
      "photoUrl": "",
      "userId": "16400899464928356374"
     },
     "user_tz": -330
    },
    "id": "8CqphCARNE_o",
    "outputId": "24067078-ace3-4106-f3c2-f9d9675a3641"
   },
   "outputs": [
    {
     "data": {
      "image/png": "[encoded data removed]",
      "text/plain": [
       "<Figure size 1296x432 with 1 Axes>"
      ]
     },
     "metadata": {
      "needs_background": "light"
     },
     "output_type": "display_data"
    }
   ],
   "source": [
    "#Plot Airlines vs Price\n",
    "sns.catplot(x='Airline',y='Price',data=flight_train.sort_values(by=\"Price\",ascending=False),kind='boxen',height=6,aspect=3)\n",
    "plt.xticks(rotation=45)\n",
    "plt.show()"
   ]
  },
  {
   "cell_type": "markdown",
   "metadata": {
    "id": "HL1xzpraNYmA"
   },
   "source": [
    "Jet Airways Business has high price compared to other Airlines.Jet Airways,Air India,Vistara and other Mulptiple Carriers are higher priced than SpiceJet,GoAir,Indigo,Trujet"
   ]
  },
  {
   "cell_type": "code",
   "execution_count": 41,
   "metadata": {
    "colab": {
     "base_uri": "https://localhost:8080/",
     "height": 463
    },
    "executionInfo": {
     "elapsed": 2017,
     "status": "ok",
     "timestamp": 1607017074427,
     "user": {
      "displayName": "Shaheel Roshankhan",
      "photoUrl": "",
      "userId": "16400899464928356374"
     },
     "user_tz": -330
    },
    "id": "GUCSfWkANFCf",
    "outputId": "8afab546-fbd1-4922-c349-0ddc392a451f"
   },
   "outputs": [
    {
     "data": {
      "image/png": "[encoded data removed]",
      "text/plain": [
       "<Figure size 1296x432 with 1 Axes>"
      ]
     },
     "metadata": {
      "needs_background": "light"
     },
     "output_type": "display_data"
    }
   ],
   "source": [
    "#Source Vs Price\n",
    "sns.catplot(x='Source',y='Price',data=flight_train.sort_values(by=\"Price\",ascending=False),kind='boxen',height=6,aspect=3)\n",
    "plt.xticks(rotation=45)\n",
    "plt.show()"
   ]
  },
  {
   "cell_type": "code",
   "execution_count": 42,
   "metadata": {
    "colab": {
     "base_uri": "https://localhost:8080/",
     "height": 463
    },
    "executionInfo": {
     "elapsed": 1239,
     "status": "ok",
     "timestamp": 1607017079160,
     "user": {
      "displayName": "Shaheel Roshankhan",
      "photoUrl": "",
      "userId": "16400899464928356374"
     },
     "user_tz": -330
    },
    "id": "ao1i8W_dNFFS",
    "outputId": "c13ffaf6-14d4-4e9e-8063-db21208e1c92"
   },
   "outputs": [
    {
     "data": {
      "image/png": "[encoded data removed]",
      "text/plain": [
       "<Figure size 1296x432 with 1 Axes>"
      ]
     },
     "metadata": {
      "needs_background": "light"
     },
     "output_type": "display_data"
    }
   ],
   "source": [
    "#Stops Vs Price\n",
    "sns.catplot(x='Total_Stops',y='Price',data=flight_train.sort_values(by=\"Price\",ascending=False),kind='boxen',height=6,aspect=3)\n",
    "plt.xticks(rotation=45)\n",
    "plt.show()"
   ]
  },
  {
   "cell_type": "code",
   "execution_count": 43,
   "metadata": {},
   "outputs": [
    {
     "data": {
      "text/plain": [
       "array(['New Delhi', 'Banglore', 'Cochin', 'Kolkata', 'Delhi', 'Hyderabad'],\n",
       "      dtype=object)"
      ]
     },
     "execution_count": 43,
     "metadata": {},
     "output_type": "execute_result"
    }
   ],
   "source": [
    "#Unique destinations\n",
    "flight_train['Destination'].unique()"
   ]
  },
  {
   "cell_type": "code",
   "execution_count": 44,
   "metadata": {},
   "outputs": [],
   "source": [
    "#Replace New Delhi with Delhi\n",
    "flight_train['Destination'] = np.where(flight_train['Destination']=='New Delhi','Delhi',flight_train['Destination'])"
   ]
  },
  {
   "cell_type": "code",
   "execution_count": 45,
   "metadata": {},
   "outputs": [
    {
     "data": {
      "text/plain": [
       "array(['Delhi', 'Banglore', 'Cochin', 'Kolkata', 'Hyderabad'],\n",
       "      dtype=object)"
      ]
     },
     "execution_count": 45,
     "metadata": {},
     "output_type": "execute_result"
    }
   ],
   "source": [
    "flight_train['Destination'].unique()"
   ]
  },
  {
   "cell_type": "markdown",
   "metadata": {
    "id": "POEhj-ZINfXf"
   },
   "source": [
    "**Feature Engineering**"
   ]
  },
  {
   "cell_type": "code",
   "execution_count": 46,
   "metadata": {
    "executionInfo": {
     "elapsed": 1034,
     "status": "ok",
     "timestamp": 1607017086988,
     "user": {
      "displayName": "Shaheel Roshankhan",
      "photoUrl": "",
      "userId": "16400899464928356374"
     },
     "user_tz": -330
    },
    "id": "wGd47FfYNFHv"
   },
   "outputs": [],
   "source": [
    "#OneHot Encode Airline, Source and Destination\n",
    "Airline = pd.get_dummies(flight_train['Airline'],prefix='Airline_',drop_first=True)\n",
    "Source = pd.get_dummies(flight_train['Source'],prefix='Source_',drop_first=True)\n",
    "Destination = pd.get_dummies(flight_train['Destination'],prefix='Destination_',drop_first=True)\n",
    "\n",
    "#Add the one hot encoded data to the main dataset\n",
    "flight_train = pd.concat([flight_train,Airline,Source,Destination],axis=1)\n",
    "\n",
    "#Drop the redundant columns\n",
    "flight_train.drop(['Airline','Source','Destination'],axis=1,inplace=True)"
   ]
  },
  {
   "cell_type": "code",
   "execution_count": 47,
   "metadata": {
    "colab": {
     "base_uri": "https://localhost:8080/"
    },
    "executionInfo": {
     "elapsed": 1091,
     "status": "ok",
     "timestamp": 1607017091710,
     "user": {
      "displayName": "Shaheel Roshankhan",
      "photoUrl": "",
      "userId": "16400899464928356374"
     },
     "user_tz": -330
    },
    "id": "w2_JmFMJNFKi",
    "outputId": "1b15c6f8-ef07-446d-99de-4dc4b013963c"
   },
   "outputs": [
    {
     "data": {
      "text/plain": [
       "0.781127129750983"
      ]
     },
     "execution_count": 47,
     "metadata": {},
     "output_type": "execute_result"
    }
   ],
   "source": [
    "len(flight_train[flight_train['Additional_Info']=='No info'])/len(flight_train)"
   ]
  },
  {
   "cell_type": "code",
   "execution_count": 48,
   "metadata": {
    "colab": {
     "base_uri": "https://localhost:8080/"
    },
    "executionInfo": {
     "elapsed": 1394,
     "status": "ok",
     "timestamp": 1607017096129,
     "user": {
      "displayName": "Shaheel Roshankhan",
      "photoUrl": "",
      "userId": "16400899464928356374"
     },
     "user_tz": -330
    },
    "id": "njQPqIeXNFNZ",
    "outputId": "4a211e2a-33bd-4e72-83db-dd93621c204e"
   },
   "outputs": [
    {
     "data": {
      "text/plain": [
       "(10682, 25)"
      ]
     },
     "execution_count": 48,
     "metadata": {},
     "output_type": "execute_result"
    }
   ],
   "source": [
    "#Since 78% of values in Additional_Info is 'No info', lets drop it\n",
    "#Also Total_Stops is related to Route lets drop Route as well\n",
    "flight_train.drop(['Route','Additional_Info'],axis=1,inplace=True)\n",
    "flight_train.shape"
   ]
  },
  {
   "cell_type": "code",
   "execution_count": 49,
   "metadata": {
    "colab": {
     "base_uri": "https://localhost:8080/"
    },
    "executionInfo": {
     "elapsed": 1331,
     "status": "ok",
     "timestamp": 1607017099749,
     "user": {
      "displayName": "Shaheel Roshankhan",
      "photoUrl": "",
      "userId": "16400899464928356374"
     },
     "user_tz": -330
    },
    "id": "7tpDCx-nNFQH",
    "outputId": "aeff2720-46ef-4beb-82e5-b63322fab839"
   },
   "outputs": [
    {
     "data": {
      "text/plain": [
       "array(['non-stop', '2 stops', '1 stop', '3 stops', '4 stops'],\n",
       "      dtype=object)"
      ]
     },
     "execution_count": 49,
     "metadata": {},
     "output_type": "execute_result"
    }
   ],
   "source": [
    "flight_train['Total_Stops'].unique()"
   ]
  },
  {
   "cell_type": "code",
   "execution_count": 50,
   "metadata": {
    "executionInfo": {
     "elapsed": 1297,
     "status": "ok",
     "timestamp": 1607017103198,
     "user": {
      "displayName": "Shaheel Roshankhan",
      "photoUrl": "",
      "userId": "16400899464928356374"
     },
     "user_tz": -330
    },
    "id": "Tw8-Gx21NFTD"
   },
   "outputs": [],
   "source": [
    "#Encode Total_Stops\n",
    "stops_map = {'non-stop': 0,\n",
    "             '1 stop': 1,\n",
    "             '2 stops': 2,\n",
    "             '3 stops': 3,\n",
    "             '4 stops': 4\n",
    "            }\n",
    "\n",
    "flight_train['Total_Stops'] = flight_train['Total_Stops'].map(stops_map)"
   ]
  },
  {
   "cell_type": "code",
   "execution_count": 51,
   "metadata": {
    "executionInfo": {
     "elapsed": 2060,
     "status": "ok",
     "timestamp": 1607017107640,
     "user": {
      "displayName": "Shaheel Roshankhan",
      "photoUrl": "",
      "userId": "16400899464928356374"
     },
     "user_tz": -330
    },
    "id": "YAiNTw_9NFV6"
   },
   "outputs": [],
   "source": [
    "#Extract Day and Month from Date_of_Journey\n",
    "flight_train['Journey_Day'] = pd.to_datetime(flight_train['Date_of_Journey'],format = \"%d/%m/%Y\").dt.day\n",
    "flight_train['Journey_Month'] = pd.to_datetime(flight_train['Date_of_Journey'],format = \"%d/%m/%Y\").dt.month"
   ]
  },
  {
   "cell_type": "code",
   "execution_count": 52,
   "metadata": {
    "colab": {
     "base_uri": "https://localhost:8080/",
     "height": 258
    },
    "executionInfo": {
     "elapsed": 815,
     "status": "ok",
     "timestamp": 1607017109694,
     "user": {
      "displayName": "Shaheel Roshankhan",
      "photoUrl": "",
      "userId": "16400899464928356374"
     },
     "user_tz": -330
    },
    "id": "CVerBo0gNFYf",
    "outputId": "203e60b9-ec46-4704-ba3d-56846a3826ec"
   },
   "outputs": [
    {
     "data": {
      "text/html": [
       "<div>\n",
       "<style scoped>\n",
       "    .dataframe tbody tr th:only-of-type {\n",
       "        vertical-align: middle;\n",
       "    }\n",
       "\n",
       "    .dataframe tbody tr th {\n",
       "        vertical-align: top;\n",
       "    }\n",
       "\n",
       "    .dataframe thead th {\n",
       "        text-align: right;\n",
       "    }\n",
       "</style>\n",
       "<table border=\"1\" class=\"dataframe\">\n",
       "  <thead>\n",
       "    <tr style=\"text-align: right;\">\n",
       "      <th></th>\n",
       "      <th>Date_of_Journey</th>\n",
       "      <th>Dep_Time</th>\n",
       "      <th>Arrival_Time</th>\n",
       "      <th>Duration</th>\n",
       "      <th>Total_Stops</th>\n",
       "      <th>Price</th>\n",
       "      <th>Airline__Air India</th>\n",
       "      <th>Airline__GoAir</th>\n",
       "      <th>Airline__IndiGo</th>\n",
       "      <th>Airline__Jet Airways</th>\n",
       "      <th>Airline__Jet Airways Business</th>\n",
       "      <th>Airline__Multiple carriers</th>\n",
       "      <th>Airline__Multiple carriers Premium economy</th>\n",
       "      <th>Airline__SpiceJet</th>\n",
       "      <th>Airline__Trujet</th>\n",
       "      <th>Airline__Vistara</th>\n",
       "      <th>Airline__Vistara Premium economy</th>\n",
       "      <th>Source__Chennai</th>\n",
       "      <th>Source__Delhi</th>\n",
       "      <th>Source__Kolkata</th>\n",
       "      <th>Source__Mumbai</th>\n",
       "      <th>Destination__Cochin</th>\n",
       "      <th>Destination__Delhi</th>\n",
       "      <th>Destination__Hyderabad</th>\n",
       "      <th>Destination__Kolkata</th>\n",
       "      <th>Journey_Day</th>\n",
       "      <th>Journey_Month</th>\n",
       "    </tr>\n",
       "  </thead>\n",
       "  <tbody>\n",
       "    <tr>\n",
       "      <th>0</th>\n",
       "      <td>24/03/2019</td>\n",
       "      <td>22:20</td>\n",
       "      <td>01:10 22 Mar</td>\n",
       "      <td>2h 50m</td>\n",
       "      <td>0</td>\n",
       "      <td>3897</td>\n",
       "      <td>0</td>\n",
       "      <td>0</td>\n",
       "      <td>1</td>\n",
       "      <td>0</td>\n",
       "      <td>0</td>\n",
       "      <td>0</td>\n",
       "      <td>0</td>\n",
       "      <td>0</td>\n",
       "      <td>0</td>\n",
       "      <td>0</td>\n",
       "      <td>0</td>\n",
       "      <td>0</td>\n",
       "      <td>0</td>\n",
       "      <td>0</td>\n",
       "      <td>0</td>\n",
       "      <td>0</td>\n",
       "      <td>1</td>\n",
       "      <td>0</td>\n",
       "      <td>0</td>\n",
       "      <td>24</td>\n",
       "      <td>3</td>\n",
       "    </tr>\n",
       "    <tr>\n",
       "      <th>1</th>\n",
       "      <td>1/05/2019</td>\n",
       "      <td>05:50</td>\n",
       "      <td>13:15</td>\n",
       "      <td>7h 25m</td>\n",
       "      <td>2</td>\n",
       "      <td>7662</td>\n",
       "      <td>1</td>\n",
       "      <td>0</td>\n",
       "      <td>0</td>\n",
       "      <td>0</td>\n",
       "      <td>0</td>\n",
       "      <td>0</td>\n",
       "      <td>0</td>\n",
       "      <td>0</td>\n",
       "      <td>0</td>\n",
       "      <td>0</td>\n",
       "      <td>0</td>\n",
       "      <td>0</td>\n",
       "      <td>0</td>\n",
       "      <td>1</td>\n",
       "      <td>0</td>\n",
       "      <td>0</td>\n",
       "      <td>0</td>\n",
       "      <td>0</td>\n",
       "      <td>0</td>\n",
       "      <td>1</td>\n",
       "      <td>5</td>\n",
       "    </tr>\n",
       "    <tr>\n",
       "      <th>2</th>\n",
       "      <td>9/06/2019</td>\n",
       "      <td>09:25</td>\n",
       "      <td>04:25 10 Jun</td>\n",
       "      <td>19h</td>\n",
       "      <td>2</td>\n",
       "      <td>13882</td>\n",
       "      <td>0</td>\n",
       "      <td>0</td>\n",
       "      <td>0</td>\n",
       "      <td>1</td>\n",
       "      <td>0</td>\n",
       "      <td>0</td>\n",
       "      <td>0</td>\n",
       "      <td>0</td>\n",
       "      <td>0</td>\n",
       "      <td>0</td>\n",
       "      <td>0</td>\n",
       "      <td>0</td>\n",
       "      <td>1</td>\n",
       "      <td>0</td>\n",
       "      <td>0</td>\n",
       "      <td>1</td>\n",
       "      <td>0</td>\n",
       "      <td>0</td>\n",
       "      <td>0</td>\n",
       "      <td>9</td>\n",
       "      <td>6</td>\n",
       "    </tr>\n",
       "    <tr>\n",
       "      <th>3</th>\n",
       "      <td>12/05/2019</td>\n",
       "      <td>18:05</td>\n",
       "      <td>23:30</td>\n",
       "      <td>5h 25m</td>\n",
       "      <td>1</td>\n",
       "      <td>6218</td>\n",
       "      <td>0</td>\n",
       "      <td>0</td>\n",
       "      <td>1</td>\n",
       "      <td>0</td>\n",
       "      <td>0</td>\n",
       "      <td>0</td>\n",
       "      <td>0</td>\n",
       "      <td>0</td>\n",
       "      <td>0</td>\n",
       "      <td>0</td>\n",
       "      <td>0</td>\n",
       "      <td>0</td>\n",
       "      <td>0</td>\n",
       "      <td>1</td>\n",
       "      <td>0</td>\n",
       "      <td>0</td>\n",
       "      <td>0</td>\n",
       "      <td>0</td>\n",
       "      <td>0</td>\n",
       "      <td>12</td>\n",
       "      <td>5</td>\n",
       "    </tr>\n",
       "    <tr>\n",
       "      <th>4</th>\n",
       "      <td>01/03/2019</td>\n",
       "      <td>16:50</td>\n",
       "      <td>21:35</td>\n",
       "      <td>4h 45m</td>\n",
       "      <td>1</td>\n",
       "      <td>13302</td>\n",
       "      <td>0</td>\n",
       "      <td>0</td>\n",
       "      <td>1</td>\n",
       "      <td>0</td>\n",
       "      <td>0</td>\n",
       "      <td>0</td>\n",
       "      <td>0</td>\n",
       "      <td>0</td>\n",
       "      <td>0</td>\n",
       "      <td>0</td>\n",
       "      <td>0</td>\n",
       "      <td>0</td>\n",
       "      <td>0</td>\n",
       "      <td>0</td>\n",
       "      <td>0</td>\n",
       "      <td>0</td>\n",
       "      <td>1</td>\n",
       "      <td>0</td>\n",
       "      <td>0</td>\n",
       "      <td>1</td>\n",
       "      <td>3</td>\n",
       "    </tr>\n",
       "  </tbody>\n",
       "</table>\n",
       "</div>"
      ],
      "text/plain": [
       "  Date_of_Journey Dep_Time  Arrival_Time Duration  Total_Stops  Price  \\\n",
       "0      24/03/2019    22:20  01:10 22 Mar   2h 50m            0   3897   \n",
       "1       1/05/2019    05:50         13:15   7h 25m            2   7662   \n",
       "2       9/06/2019    09:25  04:25 10 Jun      19h            2  13882   \n",
       "3      12/05/2019    18:05         23:30   5h 25m            1   6218   \n",
       "4      01/03/2019    16:50         21:35   4h 45m            1  13302   \n",
       "\n",
       "   Airline__Air India  Airline__GoAir  Airline__IndiGo  Airline__Jet Airways  \\\n",
       "0                   0               0                1                     0   \n",
       "1                   1               0                0                     0   \n",
       "2                   0               0                0                     1   \n",
       "3                   0               0                1                     0   \n",
       "4                   0               0                1                     0   \n",
       "\n",
       "   Airline__Jet Airways Business  Airline__Multiple carriers  \\\n",
       "0                              0                           0   \n",
       "1                              0                           0   \n",
       "2                              0                           0   \n",
       "3                              0                           0   \n",
       "4                              0                           0   \n",
       "\n",
       "   Airline__Multiple carriers Premium economy  Airline__SpiceJet  \\\n",
       "0                                           0                  0   \n",
       "1                                           0                  0   \n",
       "2                                           0                  0   \n",
       "3                                           0                  0   \n",
       "4                                           0                  0   \n",
       "\n",
       "   Airline__Trujet  Airline__Vistara  Airline__Vistara Premium economy  \\\n",
       "0                0                 0                                 0   \n",
       "1                0                 0                                 0   \n",
       "2                0                 0                                 0   \n",
       "3                0                 0                                 0   \n",
       "4                0                 0                                 0   \n",
       "\n",
       "   Source__Chennai  Source__Delhi  Source__Kolkata  Source__Mumbai  \\\n",
       "0                0              0                0               0   \n",
       "1                0              0                1               0   \n",
       "2                0              1                0               0   \n",
       "3                0              0                1               0   \n",
       "4                0              0                0               0   \n",
       "\n",
       "   Destination__Cochin  Destination__Delhi  Destination__Hyderabad  \\\n",
       "0                    0                   1                       0   \n",
       "1                    0                   0                       0   \n",
       "2                    1                   0                       0   \n",
       "3                    0                   0                       0   \n",
       "4                    0                   1                       0   \n",
       "\n",
       "   Destination__Kolkata  Journey_Day  Journey_Month  \n",
       "0                     0           24              3  \n",
       "1                     0            1              5  \n",
       "2                     0            9              6  \n",
       "3                     0           12              5  \n",
       "4                     0            1              3  "
      ]
     },
     "execution_count": 52,
     "metadata": {},
     "output_type": "execute_result"
    }
   ],
   "source": [
    "flight_train.head()"
   ]
  },
  {
   "cell_type": "code",
   "execution_count": 53,
   "metadata": {
    "executionInfo": {
     "elapsed": 1084,
     "status": "ok",
     "timestamp": 1607017113748,
     "user": {
      "displayName": "Shaheel Roshankhan",
      "photoUrl": "",
      "userId": "16400899464928356374"
     },
     "user_tz": -330
    },
    "id": "435SVHFcNFbA"
   },
   "outputs": [],
   "source": [
    "#Drop Date_Of_Journey column\n",
    "flight_train.drop('Date_of_Journey',axis=1,inplace=True)"
   ]
  },
  {
   "cell_type": "code",
   "execution_count": 54,
   "metadata": {
    "executionInfo": {
     "elapsed": 1279,
     "status": "ok",
     "timestamp": 1607017116291,
     "user": {
      "displayName": "Shaheel Roshankhan",
      "photoUrl": "",
      "userId": "16400899464928356374"
     },
     "user_tz": -330
    },
    "id": "nOIaa418Np9K"
   },
   "outputs": [],
   "source": [
    "#Extract Departure hour and minute from Dep_Time\n",
    "flight_train['Dep_hour'] = pd.to_datetime(flight_train['Dep_Time']).dt.hour\n",
    "flight_train['Dep_minute'] = pd.to_datetime(flight_train['Dep_Time']).dt.minute\n",
    "\n",
    "#Drop Dep_Time\n",
    "flight_train.drop('Dep_Time',axis=1,inplace=True)"
   ]
  },
  {
   "cell_type": "code",
   "execution_count": 55,
   "metadata": {
    "executionInfo": {
     "elapsed": 1357,
     "status": "ok",
     "timestamp": 1607017119947,
     "user": {
      "displayName": "Shaheel Roshankhan",
      "photoUrl": "",
      "userId": "16400899464928356374"
     },
     "user_tz": -330
    },
    "id": "vn8bfcggNp_x"
   },
   "outputs": [],
   "source": [
    "#Extract Arrival hour and minute from Arrival_Time\n",
    "flight_train['Arr_hour'] = pd.to_datetime(flight_train['Arrival_Time']).dt.hour\n",
    "flight_train['Arr_minute'] = pd.to_datetime(flight_train['Arrival_Time']).dt.minute\n",
    "\n",
    "#Drop Dep_Time\n",
    "flight_train.drop('Arrival_Time',axis=1,inplace=True)"
   ]
  },
  {
   "cell_type": "code",
   "execution_count": 56,
   "metadata": {
    "colab": {
     "base_uri": "https://localhost:8080/",
     "height": 258
    },
    "executionInfo": {
     "elapsed": 1444,
     "status": "ok",
     "timestamp": 1607017129208,
     "user": {
      "displayName": "Shaheel Roshankhan",
      "photoUrl": "",
      "userId": "16400899464928356374"
     },
     "user_tz": -330
    },
    "id": "e8QST3sHNqDG",
    "outputId": "c18b7c47-ca3b-44e1-cded-af207eafba44"
   },
   "outputs": [
    {
     "data": {
      "text/html": [
       "<div>\n",
       "<style scoped>\n",
       "    .dataframe tbody tr th:only-of-type {\n",
       "        vertical-align: middle;\n",
       "    }\n",
       "\n",
       "    .dataframe tbody tr th {\n",
       "        vertical-align: top;\n",
       "    }\n",
       "\n",
       "    .dataframe thead th {\n",
       "        text-align: right;\n",
       "    }\n",
       "</style>\n",
       "<table border=\"1\" class=\"dataframe\">\n",
       "  <thead>\n",
       "    <tr style=\"text-align: right;\">\n",
       "      <th></th>\n",
       "      <th>Duration</th>\n",
       "      <th>Total_Stops</th>\n",
       "      <th>Price</th>\n",
       "      <th>Airline__Air India</th>\n",
       "      <th>Airline__GoAir</th>\n",
       "      <th>Airline__IndiGo</th>\n",
       "      <th>Airline__Jet Airways</th>\n",
       "      <th>Airline__Jet Airways Business</th>\n",
       "      <th>Airline__Multiple carriers</th>\n",
       "      <th>Airline__Multiple carriers Premium economy</th>\n",
       "      <th>Airline__SpiceJet</th>\n",
       "      <th>Airline__Trujet</th>\n",
       "      <th>Airline__Vistara</th>\n",
       "      <th>Airline__Vistara Premium economy</th>\n",
       "      <th>Source__Chennai</th>\n",
       "      <th>Source__Delhi</th>\n",
       "      <th>Source__Kolkata</th>\n",
       "      <th>Source__Mumbai</th>\n",
       "      <th>Destination__Cochin</th>\n",
       "      <th>Destination__Delhi</th>\n",
       "      <th>Destination__Hyderabad</th>\n",
       "      <th>Destination__Kolkata</th>\n",
       "      <th>Journey_Day</th>\n",
       "      <th>Journey_Month</th>\n",
       "      <th>Dep_hour</th>\n",
       "      <th>Dep_minute</th>\n",
       "      <th>Arr_hour</th>\n",
       "      <th>Arr_minute</th>\n",
       "    </tr>\n",
       "  </thead>\n",
       "  <tbody>\n",
       "    <tr>\n",
       "      <th>7115</th>\n",
       "      <td>14h 20m</td>\n",
       "      <td>1</td>\n",
       "      <td>8784</td>\n",
       "      <td>0</td>\n",
       "      <td>0</td>\n",
       "      <td>1</td>\n",
       "      <td>0</td>\n",
       "      <td>0</td>\n",
       "      <td>0</td>\n",
       "      <td>0</td>\n",
       "      <td>0</td>\n",
       "      <td>0</td>\n",
       "      <td>0</td>\n",
       "      <td>0</td>\n",
       "      <td>0</td>\n",
       "      <td>1</td>\n",
       "      <td>0</td>\n",
       "      <td>0</td>\n",
       "      <td>1</td>\n",
       "      <td>0</td>\n",
       "      <td>0</td>\n",
       "      <td>0</td>\n",
       "      <td>21</td>\n",
       "      <td>3</td>\n",
       "      <td>6</td>\n",
       "      <td>40</td>\n",
       "      <td>21</td>\n",
       "      <td>0</td>\n",
       "    </tr>\n",
       "    <tr>\n",
       "      <th>2391</th>\n",
       "      <td>11h 5m</td>\n",
       "      <td>1</td>\n",
       "      <td>6171</td>\n",
       "      <td>0</td>\n",
       "      <td>0</td>\n",
       "      <td>1</td>\n",
       "      <td>0</td>\n",
       "      <td>0</td>\n",
       "      <td>0</td>\n",
       "      <td>0</td>\n",
       "      <td>0</td>\n",
       "      <td>0</td>\n",
       "      <td>0</td>\n",
       "      <td>0</td>\n",
       "      <td>0</td>\n",
       "      <td>1</td>\n",
       "      <td>0</td>\n",
       "      <td>0</td>\n",
       "      <td>1</td>\n",
       "      <td>0</td>\n",
       "      <td>0</td>\n",
       "      <td>0</td>\n",
       "      <td>15</td>\n",
       "      <td>4</td>\n",
       "      <td>5</td>\n",
       "      <td>5</td>\n",
       "      <td>16</td>\n",
       "      <td>10</td>\n",
       "    </tr>\n",
       "    <tr>\n",
       "      <th>9516</th>\n",
       "      <td>9h 20m</td>\n",
       "      <td>1</td>\n",
       "      <td>6442</td>\n",
       "      <td>0</td>\n",
       "      <td>0</td>\n",
       "      <td>1</td>\n",
       "      <td>0</td>\n",
       "      <td>0</td>\n",
       "      <td>0</td>\n",
       "      <td>0</td>\n",
       "      <td>0</td>\n",
       "      <td>0</td>\n",
       "      <td>0</td>\n",
       "      <td>0</td>\n",
       "      <td>0</td>\n",
       "      <td>1</td>\n",
       "      <td>0</td>\n",
       "      <td>0</td>\n",
       "      <td>1</td>\n",
       "      <td>0</td>\n",
       "      <td>0</td>\n",
       "      <td>0</td>\n",
       "      <td>9</td>\n",
       "      <td>6</td>\n",
       "      <td>6</td>\n",
       "      <td>50</td>\n",
       "      <td>16</td>\n",
       "      <td>10</td>\n",
       "    </tr>\n",
       "    <tr>\n",
       "      <th>2328</th>\n",
       "      <td>2h 30m</td>\n",
       "      <td>0</td>\n",
       "      <td>3815</td>\n",
       "      <td>0</td>\n",
       "      <td>0</td>\n",
       "      <td>0</td>\n",
       "      <td>0</td>\n",
       "      <td>0</td>\n",
       "      <td>0</td>\n",
       "      <td>0</td>\n",
       "      <td>1</td>\n",
       "      <td>0</td>\n",
       "      <td>0</td>\n",
       "      <td>0</td>\n",
       "      <td>0</td>\n",
       "      <td>0</td>\n",
       "      <td>1</td>\n",
       "      <td>0</td>\n",
       "      <td>0</td>\n",
       "      <td>0</td>\n",
       "      <td>0</td>\n",
       "      <td>0</td>\n",
       "      <td>15</td>\n",
       "      <td>3</td>\n",
       "      <td>9</td>\n",
       "      <td>0</td>\n",
       "      <td>11</td>\n",
       "      <td>30</td>\n",
       "    </tr>\n",
       "    <tr>\n",
       "      <th>603</th>\n",
       "      <td>23h 40m</td>\n",
       "      <td>1</td>\n",
       "      <td>9134</td>\n",
       "      <td>0</td>\n",
       "      <td>0</td>\n",
       "      <td>0</td>\n",
       "      <td>1</td>\n",
       "      <td>0</td>\n",
       "      <td>0</td>\n",
       "      <td>0</td>\n",
       "      <td>0</td>\n",
       "      <td>0</td>\n",
       "      <td>0</td>\n",
       "      <td>0</td>\n",
       "      <td>0</td>\n",
       "      <td>0</td>\n",
       "      <td>0</td>\n",
       "      <td>0</td>\n",
       "      <td>0</td>\n",
       "      <td>1</td>\n",
       "      <td>0</td>\n",
       "      <td>0</td>\n",
       "      <td>15</td>\n",
       "      <td>3</td>\n",
       "      <td>8</td>\n",
       "      <td>0</td>\n",
       "      <td>7</td>\n",
       "      <td>40</td>\n",
       "    </tr>\n",
       "  </tbody>\n",
       "</table>\n",
       "</div>"
      ],
      "text/plain": [
       "     Duration  Total_Stops  Price  Airline__Air India  Airline__GoAir  \\\n",
       "7115  14h 20m            1   8784                   0               0   \n",
       "2391   11h 5m            1   6171                   0               0   \n",
       "9516   9h 20m            1   6442                   0               0   \n",
       "2328   2h 30m            0   3815                   0               0   \n",
       "603   23h 40m            1   9134                   0               0   \n",
       "\n",
       "      Airline__IndiGo  Airline__Jet Airways  Airline__Jet Airways Business  \\\n",
       "7115                1                     0                              0   \n",
       "2391                1                     0                              0   \n",
       "9516                1                     0                              0   \n",
       "2328                0                     0                              0   \n",
       "603                 0                     1                              0   \n",
       "\n",
       "      Airline__Multiple carriers  Airline__Multiple carriers Premium economy  \\\n",
       "7115                           0                                           0   \n",
       "2391                           0                                           0   \n",
       "9516                           0                                           0   \n",
       "2328                           0                                           0   \n",
       "603                            0                                           0   \n",
       "\n",
       "      Airline__SpiceJet  Airline__Trujet  Airline__Vistara  \\\n",
       "7115                  0                0                 0   \n",
       "2391                  0                0                 0   \n",
       "9516                  0                0                 0   \n",
       "2328                  1                0                 0   \n",
       "603                   0                0                 0   \n",
       "\n",
       "      Airline__Vistara Premium economy  Source__Chennai  Source__Delhi  \\\n",
       "7115                                 0                0              1   \n",
       "2391                                 0                0              1   \n",
       "9516                                 0                0              1   \n",
       "2328                                 0                0              0   \n",
       "603                                  0                0              0   \n",
       "\n",
       "      Source__Kolkata  Source__Mumbai  Destination__Cochin  \\\n",
       "7115                0               0                    1   \n",
       "2391                0               0                    1   \n",
       "9516                0               0                    1   \n",
       "2328                1               0                    0   \n",
       "603                 0               0                    0   \n",
       "\n",
       "      Destination__Delhi  Destination__Hyderabad  Destination__Kolkata  \\\n",
       "7115                   0                       0                     0   \n",
       "2391                   0                       0                     0   \n",
       "9516                   0                       0                     0   \n",
       "2328                   0                       0                     0   \n",
       "603                    1                       0                     0   \n",
       "\n",
       "      Journey_Day  Journey_Month  Dep_hour  Dep_minute  Arr_hour  Arr_minute  \n",
       "7115           21              3         6          40        21           0  \n",
       "2391           15              4         5           5        16          10  \n",
       "9516            9              6         6          50        16          10  \n",
       "2328           15              3         9           0        11          30  \n",
       "603            15              3         8           0         7          40  "
      ]
     },
     "execution_count": 56,
     "metadata": {},
     "output_type": "execute_result"
    }
   ],
   "source": [
    "flight_train.sample(5)"
   ]
  },
  {
   "cell_type": "code",
   "execution_count": 57,
   "metadata": {
    "executionInfo": {
     "elapsed": 5245,
     "status": "ok",
     "timestamp": 1607017139745,
     "user": {
      "displayName": "Shaheel Roshankhan",
      "photoUrl": "",
      "userId": "16400899464928356374"
     },
     "user_tz": -330
    },
    "id": "Ls-RxfxqNqFw"
   },
   "outputs": [],
   "source": [
    "#Extract hours and minutes from Duration\n",
    "#Make the format of Duration uniform ie '00h 00m'\n",
    "dur = []\n",
    "for i in flight_train['Duration']:\n",
    "    if len((i.split())) == 1:\n",
    "        if 'h' in i:\n",
    "            #Append 0m to the duration if it has only hours\n",
    "            x = i + ' 0m'\n",
    "        else:\n",
    "            #Prepend 0h to the duration if it has only minutes\n",
    "            x = '0h '+ i\n",
    "            dur.append(x)\n",
    "            continue\n",
    "    else:\n",
    "        x = i\n",
    "    dur.append(x)\n",
    "    \n",
    "hour = []\n",
    "minute = []\n",
    "for i in dur:\n",
    "    hour.append(int(i.split('h')[0]))\n",
    "    minute.append(int(i.split()[1][:-1]))"
   ]
  },
  {
   "cell_type": "code",
   "execution_count": 58,
   "metadata": {
    "executionInfo": {
     "elapsed": 2300,
     "status": "ok",
     "timestamp": 1607017144954,
     "user": {
      "displayName": "Shaheel Roshankhan",
      "photoUrl": "",
      "userId": "16400899464928356374"
     },
     "user_tz": -330
    },
    "id": "jXRPMnFDNqIM"
   },
   "outputs": [],
   "source": [
    "#Create columns for Duration hour and minute and then delete Duration column\n",
    "flight_train['Duration_hour'] = hour\n",
    "flight_train['Duration_minute'] = minute\n",
    "\n",
    "flight_train.drop('Duration',axis=1,inplace=True)"
   ]
  },
  {
   "cell_type": "code",
   "execution_count": 59,
   "metadata": {
    "colab": {
     "base_uri": "https://localhost:8080/"
    },
    "executionInfo": {
     "elapsed": 1606,
     "status": "ok",
     "timestamp": 1607017148735,
     "user": {
      "displayName": "Shaheel Roshankhan",
      "photoUrl": "",
      "userId": "16400899464928356374"
     },
     "user_tz": -330
    },
    "id": "8E4oxo84NqK5",
    "outputId": "356e0068-7e15-433e-a135-ae19872abe25"
   },
   "outputs": [
    {
     "name": "stdout",
     "output_type": "stream",
     "text": [
      "<class 'pandas.core.frame.DataFrame'>\n",
      "Int64Index: 10682 entries, 0 to 10682\n",
      "Data columns (total 29 columns):\n",
      "Total_Stops                                   10682 non-null int64\n",
      "Price                                         10682 non-null int64\n",
      "Airline__Air India                            10682 non-null uint8\n",
      "Airline__GoAir                                10682 non-null uint8\n",
      "Airline__IndiGo                               10682 non-null uint8\n",
      "Airline__Jet Airways                          10682 non-null uint8\n",
      "Airline__Jet Airways Business                 10682 non-null uint8\n",
      "Airline__Multiple carriers                    10682 non-null uint8\n",
      "Airline__Multiple carriers Premium economy    10682 non-null uint8\n",
      "Airline__SpiceJet                             10682 non-null uint8\n",
      "Airline__Trujet                               10682 non-null uint8\n",
      "Airline__Vistara                              10682 non-null uint8\n",
      "Airline__Vistara Premium economy              10682 non-null uint8\n",
      "Source__Chennai                               10682 non-null uint8\n",
      "Source__Delhi                                 10682 non-null uint8\n",
      "Source__Kolkata                               10682 non-null uint8\n",
      "Source__Mumbai                                10682 non-null uint8\n",
      "Destination__Cochin                           10682 non-null uint8\n",
      "Destination__Delhi                            10682 non-null uint8\n",
      "Destination__Hyderabad                        10682 non-null uint8\n",
      "Destination__Kolkata                          10682 non-null uint8\n",
      "Journey_Day                                   10682 non-null int64\n",
      "Journey_Month                                 10682 non-null int64\n",
      "Dep_hour                                      10682 non-null int64\n",
      "Dep_minute                                    10682 non-null int64\n",
      "Arr_hour                                      10682 non-null int64\n",
      "Arr_minute                                    10682 non-null int64\n",
      "Duration_hour                                 10682 non-null int64\n",
      "Duration_minute                               10682 non-null int64\n",
      "dtypes: int64(10), uint8(19)\n",
      "memory usage: 1.1 MB\n"
     ]
    }
   ],
   "source": [
    "flight_train.info()"
   ]
  },
  {
   "cell_type": "code",
   "execution_count": 60,
   "metadata": {
    "colab": {
     "base_uri": "https://localhost:8080/"
    },
    "executionInfo": {
     "elapsed": 1834,
     "status": "ok",
     "timestamp": 1607017154291,
     "user": {
      "displayName": "Shaheel Roshankhan",
      "photoUrl": "",
      "userId": "16400899464928356374"
     },
     "user_tz": -330
    },
    "id": "EAyue-VMNqQX",
    "outputId": "565651df-3cd3-4ad2-a9f4-24ab9b12afbf"
   },
   "outputs": [
    {
     "data": {
      "text/plain": [
       "(10682, 29)"
      ]
     },
     "execution_count": 60,
     "metadata": {},
     "output_type": "execute_result"
    }
   ],
   "source": [
    "flight_train.shape"
   ]
  },
  {
   "cell_type": "markdown",
   "metadata": {
    "id": "hZIB0pQFN3nv"
   },
   "source": [
    "**Test data**"
   ]
  },
  {
   "cell_type": "code",
   "execution_count": 61,
   "metadata": {
    "colab": {
     "base_uri": "https://localhost:8080/",
     "height": 204
    },
    "executionInfo": {
     "elapsed": 2803,
     "status": "ok",
     "timestamp": 1607017159398,
     "user": {
      "displayName": "Shaheel Roshankhan",
      "photoUrl": "",
      "userId": "16400899464928356374"
     },
     "user_tz": -330
    },
    "id": "IZMMwJziNqTO",
    "outputId": "9070dddb-a1ee-4e66-ea51-83529bb27daf"
   },
   "outputs": [
    {
     "data": {
      "text/html": [
       "<div>\n",
       "<style scoped>\n",
       "    .dataframe tbody tr th:only-of-type {\n",
       "        vertical-align: middle;\n",
       "    }\n",
       "\n",
       "    .dataframe tbody tr th {\n",
       "        vertical-align: top;\n",
       "    }\n",
       "\n",
       "    .dataframe thead th {\n",
       "        text-align: right;\n",
       "    }\n",
       "</style>\n",
       "<table border=\"1\" class=\"dataframe\">\n",
       "  <thead>\n",
       "    <tr style=\"text-align: right;\">\n",
       "      <th></th>\n",
       "      <th>Airline</th>\n",
       "      <th>Date_of_Journey</th>\n",
       "      <th>Source</th>\n",
       "      <th>Destination</th>\n",
       "      <th>Route</th>\n",
       "      <th>Dep_Time</th>\n",
       "      <th>Arrival_Time</th>\n",
       "      <th>Duration</th>\n",
       "      <th>Total_Stops</th>\n",
       "      <th>Additional_Info</th>\n",
       "    </tr>\n",
       "  </thead>\n",
       "  <tbody>\n",
       "    <tr>\n",
       "      <th>0</th>\n",
       "      <td>Jet Airways</td>\n",
       "      <td>6/06/2019</td>\n",
       "      <td>Delhi</td>\n",
       "      <td>Cochin</td>\n",
       "      <td>DEL → BOM → COK</td>\n",
       "      <td>17:30</td>\n",
       "      <td>04:25 07 Jun</td>\n",
       "      <td>10h 55m</td>\n",
       "      <td>1 stop</td>\n",
       "      <td>No info</td>\n",
       "    </tr>\n",
       "    <tr>\n",
       "      <th>1</th>\n",
       "      <td>IndiGo</td>\n",
       "      <td>12/05/2019</td>\n",
       "      <td>Kolkata</td>\n",
       "      <td>Banglore</td>\n",
       "      <td>CCU → MAA → BLR</td>\n",
       "      <td>06:20</td>\n",
       "      <td>10:20</td>\n",
       "      <td>4h</td>\n",
       "      <td>1 stop</td>\n",
       "      <td>No info</td>\n",
       "    </tr>\n",
       "    <tr>\n",
       "      <th>2</th>\n",
       "      <td>Jet Airways</td>\n",
       "      <td>21/05/2019</td>\n",
       "      <td>Delhi</td>\n",
       "      <td>Cochin</td>\n",
       "      <td>DEL → BOM → COK</td>\n",
       "      <td>19:15</td>\n",
       "      <td>19:00 22 May</td>\n",
       "      <td>23h 45m</td>\n",
       "      <td>1 stop</td>\n",
       "      <td>In-flight meal not included</td>\n",
       "    </tr>\n",
       "    <tr>\n",
       "      <th>3</th>\n",
       "      <td>Multiple carriers</td>\n",
       "      <td>21/05/2019</td>\n",
       "      <td>Delhi</td>\n",
       "      <td>Cochin</td>\n",
       "      <td>DEL → BOM → COK</td>\n",
       "      <td>08:00</td>\n",
       "      <td>21:00</td>\n",
       "      <td>13h</td>\n",
       "      <td>1 stop</td>\n",
       "      <td>No info</td>\n",
       "    </tr>\n",
       "    <tr>\n",
       "      <th>4</th>\n",
       "      <td>Air Asia</td>\n",
       "      <td>24/06/2019</td>\n",
       "      <td>Banglore</td>\n",
       "      <td>Delhi</td>\n",
       "      <td>BLR → DEL</td>\n",
       "      <td>23:55</td>\n",
       "      <td>02:45 25 Jun</td>\n",
       "      <td>2h 50m</td>\n",
       "      <td>non-stop</td>\n",
       "      <td>No info</td>\n",
       "    </tr>\n",
       "  </tbody>\n",
       "</table>\n",
       "</div>"
      ],
      "text/plain": [
       "             Airline Date_of_Journey    Source Destination            Route  \\\n",
       "0        Jet Airways       6/06/2019     Delhi      Cochin  DEL → BOM → COK   \n",
       "1             IndiGo      12/05/2019   Kolkata    Banglore  CCU → MAA → BLR   \n",
       "2        Jet Airways      21/05/2019     Delhi      Cochin  DEL → BOM → COK   \n",
       "3  Multiple carriers      21/05/2019     Delhi      Cochin  DEL → BOM → COK   \n",
       "4           Air Asia      24/06/2019  Banglore       Delhi        BLR → DEL   \n",
       "\n",
       "  Dep_Time  Arrival_Time Duration Total_Stops              Additional_Info  \n",
       "0    17:30  04:25 07 Jun  10h 55m      1 stop                      No info  \n",
       "1    06:20         10:20       4h      1 stop                      No info  \n",
       "2    19:15  19:00 22 May  23h 45m      1 stop  In-flight meal not included  \n",
       "3    08:00         21:00      13h      1 stop                      No info  \n",
       "4    23:55  02:45 25 Jun   2h 50m    non-stop                      No info  "
      ]
     },
     "execution_count": 61,
     "metadata": {},
     "output_type": "execute_result"
    }
   ],
   "source": [
    "flight_test = pd.read_excel('flight_test.xlsx')\n",
    "flight_test.head()"
   ]
  },
  {
   "cell_type": "code",
   "execution_count": 62,
   "metadata": {
    "colab": {
     "base_uri": "https://localhost:8080/"
    },
    "executionInfo": {
     "elapsed": 19069,
     "status": "ok",
     "timestamp": 1607014374195,
     "user": {
      "displayName": "Shaheel Roshankhan",
      "photoUrl": "",
      "userId": "16400899464928356374"
     },
     "user_tz": -330
    },
    "id": "XQVIwEGpNqWD",
    "outputId": "404ebded-9e56-41ed-bbbc-f94d6e6aecb0"
   },
   "outputs": [
    {
     "name": "stdout",
     "output_type": "stream",
     "text": [
      "Test Data structure\n",
      "--------------------------------------------------------------------------------\n",
      "<class 'pandas.core.frame.DataFrame'>\n",
      "RangeIndex: 2671 entries, 0 to 2670\n",
      "Data columns (total 10 columns):\n",
      "Airline            2671 non-null object\n",
      "Date_of_Journey    2671 non-null object\n",
      "Source             2671 non-null object\n",
      "Destination        2671 non-null object\n",
      "Route              2671 non-null object\n",
      "Dep_Time           2671 non-null object\n",
      "Arrival_Time       2671 non-null object\n",
      "Duration           2671 non-null object\n",
      "Total_Stops        2671 non-null object\n",
      "Additional_Info    2671 non-null object\n",
      "dtypes: object(10)\n",
      "memory usage: 208.8+ KB\n",
      "\n",
      "\n",
      "\n",
      "Checking for any missing value\n",
      "--------------------------------------------------------------------------------\n",
      "Airline            0\n",
      "Date_of_Journey    0\n",
      "Source             0\n",
      "Destination        0\n",
      "Route              0\n",
      "Dep_Time           0\n",
      "Arrival_Time       0\n",
      "Duration           0\n",
      "Total_Stops        0\n",
      "Additional_Info    0\n",
      "dtype: int64\n",
      "\n",
      "\n",
      "\n",
      "<class 'pandas.core.frame.DataFrame'>\n",
      "Int64Index: 2671 entries, 0 to 2670\n",
      "Data columns (total 27 columns):\n",
      "Total_Stops                                   2671 non-null int64\n",
      "Airline__Air India                            2671 non-null uint8\n",
      "Airline__GoAir                                2671 non-null uint8\n",
      "Airline__IndiGo                               2671 non-null uint8\n",
      "Airline__Jet Airways                          2671 non-null uint8\n",
      "Airline__Jet Airways Business                 2671 non-null uint8\n",
      "Airline__Multiple carriers                    2671 non-null uint8\n",
      "Airline__Multiple carriers Premium economy    2671 non-null uint8\n",
      "Airline__SpiceJet                             2671 non-null uint8\n",
      "Airline__Vistara                              2671 non-null uint8\n",
      "Airline__Vistara Premium economy              2671 non-null uint8\n",
      "Source__Chennai                               2671 non-null uint8\n",
      "Source__Delhi                                 2671 non-null uint8\n",
      "Source__Kolkata                               2671 non-null uint8\n",
      "Source__Mumbai                                2671 non-null uint8\n",
      "Destination__Cochin                           2671 non-null uint8\n",
      "Destination__Delhi                            2671 non-null uint8\n",
      "Destination__Hyderabad                        2671 non-null uint8\n",
      "Destination__Kolkata                          2671 non-null uint8\n",
      "Journey_Day                                   2671 non-null int64\n",
      "Journey_Month                                 2671 non-null int64\n",
      "Dep_hour                                      2671 non-null int64\n",
      "Dep_minute                                    2671 non-null int64\n",
      "Arr_hour                                      2671 non-null int64\n",
      "Arr_minute                                    2671 non-null int64\n",
      "Duration_hour                                 2671 non-null int64\n",
      "Duration_minute                               2671 non-null int64\n",
      "dtypes: int64(9), uint8(18)\n",
      "memory usage: 255.6 KB\n",
      "None\n",
      "\n",
      "\n",
      "Shape of the test data (2671, 27)\n"
     ]
    }
   ],
   "source": [
    "print('Test Data structure')\n",
    "print('-'*80)\n",
    "flight_test.info()\n",
    "\n",
    "print('\\n'*2)\n",
    "print('Checking for any missing value')\n",
    "print('-'*80)\n",
    "flight_test.dropna(inplace=True)\n",
    "print(flight_test.isnull().sum())\n",
    "print('\\n'*2)\n",
    "\n",
    "#Replace New Delhi with Delhi\n",
    "flight_test['Destination'] = np.where(flight_test['Destination']=='New Delhi','Delhi',flight_test['Destination'])\n",
    "\n",
    "#OneHot Encode Airline, Source and Destination\n",
    "Airline = pd.get_dummies(flight_test['Airline'],prefix='Airline_',drop_first=True)\n",
    "Source = pd.get_dummies(flight_test['Source'],prefix='Source_',drop_first=True)\n",
    "Destination = pd.get_dummies(flight_test['Destination'],prefix='Destination_',drop_first=True)\n",
    "\n",
    "#Add the one hot encoded data to the main dataset\n",
    "flight_test = pd.concat([flight_test,Airline,Source,Destination],axis=1)\n",
    "\n",
    "#Drop the redundant columns\n",
    "flight_test.drop(['Airline','Source','Destination'],axis=1,inplace=True)\n",
    "\n",
    "\n",
    "\n",
    "#Since 78% of values in Additional_Info is 'No info', lets drop it\n",
    "#Also Total_Stops is related to Route lets drop Route as well\n",
    "flight_test.drop(['Route','Additional_Info'],axis=1,inplace=True)\n",
    "\n",
    "\n",
    "#Encode Total_Stops\n",
    "stops_map = {'non-stop': 0,\n",
    "             '1 stop': 1,\n",
    "             '2 stops': 2,\n",
    "             '3 stops': 3,\n",
    "             '4 stops': 4\n",
    "            }\n",
    "\n",
    "flight_test['Total_Stops'] = flight_test['Total_Stops'].map(stops_map)\n",
    "\n",
    "#Extract Day and Month from Date_of_Journey\n",
    "flight_test['Journey_Day'] = pd.to_datetime(flight_test['Date_of_Journey'],format = \"%d/%m/%Y\").dt.day\n",
    "flight_test['Journey_Month'] = pd.to_datetime(flight_test['Date_of_Journey'],format = \"%d/%m/%Y\").dt.month\n",
    "\n",
    "#Drop Date_Of_Journey column\n",
    "flight_test.drop('Date_of_Journey',axis=1,inplace=True)\n",
    "\n",
    "\n",
    "#Extract Departure hour and minute from Dep_Time\n",
    "flight_test['Dep_hour'] = pd.to_datetime(flight_test['Dep_Time']).dt.hour\n",
    "flight_test['Dep_minute'] = pd.to_datetime(flight_test['Dep_Time']).dt.minute\n",
    "\n",
    "#Drop Dep_Time\n",
    "flight_test.drop('Dep_Time',axis=1,inplace=True)\n",
    "\n",
    "\n",
    "#Extract Arrival hour and minute from Arrival_Time\n",
    "flight_test['Arr_hour'] = pd.to_datetime(flight_test['Arrival_Time']).dt.hour\n",
    "flight_test['Arr_minute'] = pd.to_datetime(flight_test['Arrival_Time']).dt.minute\n",
    "\n",
    "#Drop Dep_Time\n",
    "flight_test.drop('Arrival_Time',axis=1,inplace=True)\n",
    "\n",
    "\n",
    "#Extract hours and minutes from Duration\n",
    "#Make the format of Duration uniform ie '00h 00m'\n",
    "dur = []\n",
    "for i in flight_test['Duration']:\n",
    "    if len((i.split())) == 1:\n",
    "        if 'h' in i:\n",
    "            #Append 0m to the duration if it has only hours\n",
    "            x = i + ' 0m'\n",
    "        else:\n",
    "            #Prepend 0h to the duration if it has only minutes\n",
    "            x = '0h '+ i\n",
    "            dur.append(x)\n",
    "            continue\n",
    "    else:\n",
    "        x = i\n",
    "    dur.append(x)\n",
    "    \n",
    "hour = []\n",
    "minute = []\n",
    "for i in dur:\n",
    "    hour.append(int(i.split('h')[0]))\n",
    "    minute.append(int(i.split()[1][:-1]))\n",
    "    \n",
    "#Create columns for Duration hour and minute and then delete Duration column\n",
    "flight_test['Duration_hour'] = hour\n",
    "flight_test['Duration_minute'] = minute\n",
    "\n",
    "flight_test.drop('Duration',axis=1,inplace=True)\n",
    "\n",
    "print(flight_test.info())\n",
    "print('\\n')\n",
    "print('Shape of the test data',flight_test.shape)"
   ]
  },
  {
   "cell_type": "markdown",
   "metadata": {
    "id": "iWTnGN40OCcZ"
   },
   "source": [
    "**Feature Selection**"
   ]
  },
  {
   "cell_type": "code",
   "execution_count": 63,
   "metadata": {
    "colab": {
     "base_uri": "https://localhost:8080/"
    },
    "executionInfo": {
     "elapsed": 2196,
     "status": "ok",
     "timestamp": 1607017171354,
     "user": {
      "displayName": "Shaheel Roshankhan",
      "photoUrl": "",
      "userId": "16400899464928356374"
     },
     "user_tz": -330
    },
    "id": "vpFha9vWNqY4",
    "outputId": "767d29c7-231f-4752-cdc0-20bd5d1e4995"
   },
   "outputs": [
    {
     "data": {
      "text/plain": [
       "Index(['Total_Stops', 'Price', 'Airline__Air India', 'Airline__GoAir',\n",
       "       'Airline__IndiGo', 'Airline__Jet Airways',\n",
       "       'Airline__Jet Airways Business', 'Airline__Multiple carriers',\n",
       "       'Airline__Multiple carriers Premium economy', 'Airline__SpiceJet',\n",
       "       'Airline__Trujet', 'Airline__Vistara',\n",
       "       'Airline__Vistara Premium economy', 'Source__Chennai', 'Source__Delhi',\n",
       "       'Source__Kolkata', 'Source__Mumbai', 'Destination__Cochin',\n",
       "       'Destination__Delhi', 'Destination__Hyderabad', 'Destination__Kolkata',\n",
       "       'Journey_Day', 'Journey_Month', 'Dep_hour', 'Dep_minute', 'Arr_hour',\n",
       "       'Arr_minute', 'Duration_hour', 'Duration_minute'],\n",
       "      dtype='object')"
      ]
     },
     "execution_count": 63,
     "metadata": {},
     "output_type": "execute_result"
    }
   ],
   "source": [
    "flight_train.columns"
   ]
  },
  {
   "cell_type": "code",
   "execution_count": 64,
   "metadata": {
    "colab": {
     "base_uri": "https://localhost:8080/",
     "height": 258
    },
    "executionInfo": {
     "elapsed": 1734,
     "status": "ok",
     "timestamp": 1607017175409,
     "user": {
      "displayName": "Shaheel Roshankhan",
      "photoUrl": "",
      "userId": "16400899464928356374"
     },
     "user_tz": -330
    },
    "id": "dCeoqdKDODo9",
    "outputId": "b62c77b1-c23b-42ad-bbca-de9cd455b5d2"
   },
   "outputs": [
    {
     "data": {
      "text/html": [
       "<div>\n",
       "<style scoped>\n",
       "    .dataframe tbody tr th:only-of-type {\n",
       "        vertical-align: middle;\n",
       "    }\n",
       "\n",
       "    .dataframe tbody tr th {\n",
       "        vertical-align: top;\n",
       "    }\n",
       "\n",
       "    .dataframe thead th {\n",
       "        text-align: right;\n",
       "    }\n",
       "</style>\n",
       "<table border=\"1\" class=\"dataframe\">\n",
       "  <thead>\n",
       "    <tr style=\"text-align: right;\">\n",
       "      <th></th>\n",
       "      <th>Total_Stops</th>\n",
       "      <th>Airline__Air India</th>\n",
       "      <th>Airline__GoAir</th>\n",
       "      <th>Airline__IndiGo</th>\n",
       "      <th>Airline__Jet Airways</th>\n",
       "      <th>Airline__Jet Airways Business</th>\n",
       "      <th>Airline__Multiple carriers</th>\n",
       "      <th>Airline__Multiple carriers Premium economy</th>\n",
       "      <th>Airline__SpiceJet</th>\n",
       "      <th>Airline__Trujet</th>\n",
       "      <th>Airline__Vistara</th>\n",
       "      <th>Airline__Vistara Premium economy</th>\n",
       "      <th>Source__Chennai</th>\n",
       "      <th>Source__Delhi</th>\n",
       "      <th>Source__Kolkata</th>\n",
       "      <th>Source__Mumbai</th>\n",
       "      <th>Destination__Cochin</th>\n",
       "      <th>Destination__Delhi</th>\n",
       "      <th>Destination__Hyderabad</th>\n",
       "      <th>Destination__Kolkata</th>\n",
       "      <th>Journey_Day</th>\n",
       "      <th>Journey_Month</th>\n",
       "      <th>Dep_hour</th>\n",
       "      <th>Dep_minute</th>\n",
       "      <th>Arr_hour</th>\n",
       "      <th>Arr_minute</th>\n",
       "      <th>Duration_hour</th>\n",
       "      <th>Duration_minute</th>\n",
       "    </tr>\n",
       "  </thead>\n",
       "  <tbody>\n",
       "    <tr>\n",
       "      <th>0</th>\n",
       "      <td>0</td>\n",
       "      <td>0</td>\n",
       "      <td>0</td>\n",
       "      <td>1</td>\n",
       "      <td>0</td>\n",
       "      <td>0</td>\n",
       "      <td>0</td>\n",
       "      <td>0</td>\n",
       "      <td>0</td>\n",
       "      <td>0</td>\n",
       "      <td>0</td>\n",
       "      <td>0</td>\n",
       "      <td>0</td>\n",
       "      <td>0</td>\n",
       "      <td>0</td>\n",
       "      <td>0</td>\n",
       "      <td>0</td>\n",
       "      <td>1</td>\n",
       "      <td>0</td>\n",
       "      <td>0</td>\n",
       "      <td>24</td>\n",
       "      <td>3</td>\n",
       "      <td>22</td>\n",
       "      <td>20</td>\n",
       "      <td>1</td>\n",
       "      <td>10</td>\n",
       "      <td>2</td>\n",
       "      <td>50</td>\n",
       "    </tr>\n",
       "    <tr>\n",
       "      <th>1</th>\n",
       "      <td>2</td>\n",
       "      <td>1</td>\n",
       "      <td>0</td>\n",
       "      <td>0</td>\n",
       "      <td>0</td>\n",
       "      <td>0</td>\n",
       "      <td>0</td>\n",
       "      <td>0</td>\n",
       "      <td>0</td>\n",
       "      <td>0</td>\n",
       "      <td>0</td>\n",
       "      <td>0</td>\n",
       "      <td>0</td>\n",
       "      <td>0</td>\n",
       "      <td>1</td>\n",
       "      <td>0</td>\n",
       "      <td>0</td>\n",
       "      <td>0</td>\n",
       "      <td>0</td>\n",
       "      <td>0</td>\n",
       "      <td>1</td>\n",
       "      <td>5</td>\n",
       "      <td>5</td>\n",
       "      <td>50</td>\n",
       "      <td>13</td>\n",
       "      <td>15</td>\n",
       "      <td>7</td>\n",
       "      <td>25</td>\n",
       "    </tr>\n",
       "    <tr>\n",
       "      <th>2</th>\n",
       "      <td>2</td>\n",
       "      <td>0</td>\n",
       "      <td>0</td>\n",
       "      <td>0</td>\n",
       "      <td>1</td>\n",
       "      <td>0</td>\n",
       "      <td>0</td>\n",
       "      <td>0</td>\n",
       "      <td>0</td>\n",
       "      <td>0</td>\n",
       "      <td>0</td>\n",
       "      <td>0</td>\n",
       "      <td>0</td>\n",
       "      <td>1</td>\n",
       "      <td>0</td>\n",
       "      <td>0</td>\n",
       "      <td>1</td>\n",
       "      <td>0</td>\n",
       "      <td>0</td>\n",
       "      <td>0</td>\n",
       "      <td>9</td>\n",
       "      <td>6</td>\n",
       "      <td>9</td>\n",
       "      <td>25</td>\n",
       "      <td>4</td>\n",
       "      <td>25</td>\n",
       "      <td>19</td>\n",
       "      <td>0</td>\n",
       "    </tr>\n",
       "    <tr>\n",
       "      <th>3</th>\n",
       "      <td>1</td>\n",
       "      <td>0</td>\n",
       "      <td>0</td>\n",
       "      <td>1</td>\n",
       "      <td>0</td>\n",
       "      <td>0</td>\n",
       "      <td>0</td>\n",
       "      <td>0</td>\n",
       "      <td>0</td>\n",
       "      <td>0</td>\n",
       "      <td>0</td>\n",
       "      <td>0</td>\n",
       "      <td>0</td>\n",
       "      <td>0</td>\n",
       "      <td>1</td>\n",
       "      <td>0</td>\n",
       "      <td>0</td>\n",
       "      <td>0</td>\n",
       "      <td>0</td>\n",
       "      <td>0</td>\n",
       "      <td>12</td>\n",
       "      <td>5</td>\n",
       "      <td>18</td>\n",
       "      <td>5</td>\n",
       "      <td>23</td>\n",
       "      <td>30</td>\n",
       "      <td>5</td>\n",
       "      <td>25</td>\n",
       "    </tr>\n",
       "    <tr>\n",
       "      <th>4</th>\n",
       "      <td>1</td>\n",
       "      <td>0</td>\n",
       "      <td>0</td>\n",
       "      <td>1</td>\n",
       "      <td>0</td>\n",
       "      <td>0</td>\n",
       "      <td>0</td>\n",
       "      <td>0</td>\n",
       "      <td>0</td>\n",
       "      <td>0</td>\n",
       "      <td>0</td>\n",
       "      <td>0</td>\n",
       "      <td>0</td>\n",
       "      <td>0</td>\n",
       "      <td>0</td>\n",
       "      <td>0</td>\n",
       "      <td>0</td>\n",
       "      <td>1</td>\n",
       "      <td>0</td>\n",
       "      <td>0</td>\n",
       "      <td>1</td>\n",
       "      <td>3</td>\n",
       "      <td>16</td>\n",
       "      <td>50</td>\n",
       "      <td>21</td>\n",
       "      <td>35</td>\n",
       "      <td>4</td>\n",
       "      <td>45</td>\n",
       "    </tr>\n",
       "  </tbody>\n",
       "</table>\n",
       "</div>"
      ],
      "text/plain": [
       "   Total_Stops  Airline__Air India  Airline__GoAir  Airline__IndiGo  \\\n",
       "0            0                   0               0                1   \n",
       "1            2                   1               0                0   \n",
       "2            2                   0               0                0   \n",
       "3            1                   0               0                1   \n",
       "4            1                   0               0                1   \n",
       "\n",
       "   Airline__Jet Airways  Airline__Jet Airways Business  \\\n",
       "0                     0                              0   \n",
       "1                     0                              0   \n",
       "2                     1                              0   \n",
       "3                     0                              0   \n",
       "4                     0                              0   \n",
       "\n",
       "   Airline__Multiple carriers  Airline__Multiple carriers Premium economy  \\\n",
       "0                           0                                           0   \n",
       "1                           0                                           0   \n",
       "2                           0                                           0   \n",
       "3                           0                                           0   \n",
       "4                           0                                           0   \n",
       "\n",
       "   Airline__SpiceJet  Airline__Trujet  Airline__Vistara  \\\n",
       "0                  0                0                 0   \n",
       "1                  0                0                 0   \n",
       "2                  0                0                 0   \n",
       "3                  0                0                 0   \n",
       "4                  0                0                 0   \n",
       "\n",
       "   Airline__Vistara Premium economy  Source__Chennai  Source__Delhi  \\\n",
       "0                                 0                0              0   \n",
       "1                                 0                0              0   \n",
       "2                                 0                0              1   \n",
       "3                                 0                0              0   \n",
       "4                                 0                0              0   \n",
       "\n",
       "   Source__Kolkata  Source__Mumbai  Destination__Cochin  Destination__Delhi  \\\n",
       "0                0               0                    0                   1   \n",
       "1                1               0                    0                   0   \n",
       "2                0               0                    1                   0   \n",
       "3                1               0                    0                   0   \n",
       "4                0               0                    0                   1   \n",
       "\n",
       "   Destination__Hyderabad  Destination__Kolkata  Journey_Day  Journey_Month  \\\n",
       "0                       0                     0           24              3   \n",
       "1                       0                     0            1              5   \n",
       "2                       0                     0            9              6   \n",
       "3                       0                     0           12              5   \n",
       "4                       0                     0            1              3   \n",
       "\n",
       "   Dep_hour  Dep_minute  Arr_hour  Arr_minute  Duration_hour  Duration_minute  \n",
       "0        22          20         1          10              2               50  \n",
       "1         5          50        13          15              7               25  \n",
       "2         9          25         4          25             19                0  \n",
       "3        18           5        23          30              5               25  \n",
       "4        16          50        21          35              4               45  "
      ]
     },
     "execution_count": 64,
     "metadata": {},
     "output_type": "execute_result"
    }
   ],
   "source": [
    "X = flight_train.drop('Price',axis=1)\n",
    "X.head()"
   ]
  },
  {
   "cell_type": "code",
   "execution_count": 65,
   "metadata": {
    "colab": {
     "base_uri": "https://localhost:8080/"
    },
    "executionInfo": {
     "elapsed": 1425,
     "status": "ok",
     "timestamp": 1607017180503,
     "user": {
      "displayName": "Shaheel Roshankhan",
      "photoUrl": "",
      "userId": "16400899464928356374"
     },
     "user_tz": -330
    },
    "id": "_j-lfGB0ODry",
    "outputId": "34756d80-b4a6-4a5d-8b2d-e6f3be91c917"
   },
   "outputs": [
    {
     "data": {
      "text/plain": [
       "0     3897\n",
       "1     7662\n",
       "2    13882\n",
       "3     6218\n",
       "4    13302\n",
       "Name: Price, dtype: int64"
      ]
     },
     "execution_count": 65,
     "metadata": {},
     "output_type": "execute_result"
    }
   ],
   "source": [
    "y = flight_train['Price']\n",
    "y.head()"
   ]
  },
  {
   "cell_type": "code",
   "execution_count": 66,
   "metadata": {
    "colab": {
     "base_uri": "https://localhost:8080/"
    },
    "executionInfo": {
     "elapsed": 1835,
     "status": "ok",
     "timestamp": 1607017197497,
     "user": {
      "displayName": "Shaheel Roshankhan",
      "photoUrl": "",
      "userId": "16400899464928356374"
     },
     "user_tz": -330
    },
    "id": "2_4XyVFoODvE",
    "outputId": "ced5cff1-d43f-4be1-8660-19ee6f274cfa"
   },
   "outputs": [
    {
     "data": {
      "text/plain": [
       "ExtraTreeRegressor(criterion='mse', max_depth=None, max_features='auto',\n",
       "                   max_leaf_nodes=None, min_impurity_decrease=0.0,\n",
       "                   min_impurity_split=None, min_samples_leaf=1,\n",
       "                   min_samples_split=2, min_weight_fraction_leaf=0.0,\n",
       "                   random_state=99, splitter='random')"
      ]
     },
     "execution_count": 66,
     "metadata": {},
     "output_type": "execute_result"
    }
   ],
   "source": [
    "#Find important features using ExtraTreesRegressor\n",
    "from sklearn.tree import ExtraTreeRegressor\n",
    "\n",
    "extra_tree = ExtraTreeRegressor(random_state=99)\n",
    "extra_tree.fit(X,y)"
   ]
  },
  {
   "cell_type": "code",
   "execution_count": 67,
   "metadata": {
    "colab": {
     "base_uri": "https://localhost:8080/",
     "height": 483
    },
    "executionInfo": {
     "elapsed": 5627,
     "status": "ok",
     "timestamp": 1607017208570,
     "user": {
      "displayName": "Shaheel Roshankhan",
      "photoUrl": "",
      "userId": "16400899464928356374"
     },
     "user_tz": -330
    },
    "id": "5MO9w8z3ODxb",
    "outputId": "80614c07-894b-441f-910e-040014a4c5f7"
   },
   "outputs": [
    {
     "data": {
      "image/png": "[encoded data removed]",
      "text/plain": [
       "<Figure size 864x576 with 1 Axes>"
      ]
     },
     "metadata": {
      "needs_background": "light"
     },
     "output_type": "display_data"
    }
   ],
   "source": [
    "#Plot the feature importance of each feature\n",
    "plt.figure(figsize=(12,8))\n",
    "imp_feature = pd.Series(extra_tree.feature_importances_,index=X.columns)\n",
    "imp_feature.nlargest(20).plot(kind='barh')\n",
    "plt.show()"
   ]
  },
  {
   "cell_type": "markdown",
   "metadata": {
    "id": "iVAch6M0ONGX"
   },
   "source": [
    "**Train-Test split**"
   ]
  },
  {
   "cell_type": "code",
   "execution_count": 68,
   "metadata": {
    "colab": {
     "base_uri": "https://localhost:8080/"
    },
    "executionInfo": {
     "elapsed": 1439,
     "status": "ok",
     "timestamp": 1607017222692,
     "user": {
      "displayName": "Shaheel Roshankhan",
      "photoUrl": "",
      "userId": "16400899464928356374"
     },
     "user_tz": -330
    },
    "id": "4dQzdhmsOD0F",
    "outputId": "48930c55-9cf3-4dec-d62a-2518a477157a"
   },
   "outputs": [
    {
     "name": "stdout",
     "output_type": "stream",
     "text": [
      "x_train shape (8545, 28)\n",
      "x_test shape (2137, 28)\n",
      "y_train shape (8545,)\n",
      "y_test shape (2137,)\n"
     ]
    }
   ],
   "source": [
    "from sklearn.model_selection import train_test_split\n",
    "x_train,x_test,y_train,y_test = train_test_split(X,y,test_size=0.2,random_state=99)\n",
    "print('x_train shape',x_train.shape)\n",
    "print('x_test shape',x_test.shape)\n",
    "print('y_train shape',y_train.shape)\n",
    "print('y_test shape',y_test.shape)"
   ]
  },
  {
   "cell_type": "markdown",
   "metadata": {
    "id": "HsmJbpNsOQnp"
   },
   "source": [
    "**Train the model**"
   ]
  },
  {
   "cell_type": "code",
   "execution_count": 69,
   "metadata": {
    "executionInfo": {
     "elapsed": 2118,
     "status": "ok",
     "timestamp": 1607017231902,
     "user": {
      "displayName": "Shaheel Roshankhan",
      "photoUrl": "",
      "userId": "16400899464928356374"
     },
     "user_tz": -330
    },
    "id": "aQNIrBbfOEB9"
   },
   "outputs": [
    {
     "data": {
      "text/plain": [
       "GradientBoostingRegressor(alpha=0.9, criterion='friedman_mse', init=None,\n",
       "                          learning_rate=0.1, loss='ls', max_depth=3,\n",
       "                          max_features=None, max_leaf_nodes=None,\n",
       "                          min_impurity_decrease=0.0, min_impurity_split=None,\n",
       "                          min_samples_leaf=1, min_samples_split=2,\n",
       "                          min_weight_fraction_leaf=0.0, n_estimators=100,\n",
       "                          n_iter_no_change=None, presort='auto',\n",
       "                          random_state=99, subsample=1.0, tol=0.0001,\n",
       "                          validation_fraction=0.1, verbose=0, warm_start=False)"
      ]
     },
     "execution_count": 69,
     "metadata": {},
     "output_type": "execute_result"
    }
   ],
   "source": [
    "from sklearn import metrics\n",
    "from sklearn.ensemble import GradientBoostingRegressor\n",
    "gbm_model = GradientBoostingRegressor(random_state=99)\n",
    "gbm_model.fit(x_train,y_train)"
   ]
  },
  {
   "cell_type": "code",
   "execution_count": 70,
   "metadata": {
    "id": "4HOzhFOAtY0s"
   },
   "outputs": [],
   "source": [
    "#Make predictions\n",
    "y_pred = gbm_model.predict(x_test)"
   ]
  },
  {
   "cell_type": "code",
   "execution_count": 71,
   "metadata": {
    "id": "HJAPZoVEtHJU"
   },
   "outputs": [
    {
     "name": "stdout",
     "output_type": "stream",
     "text": [
      "MAE: 1528.0198942540933\n",
      "RMSE: 2116.9529467959946\n"
     ]
    }
   ],
   "source": [
    "#Model Evaluation\n",
    "MAE = metrics.mean_absolute_error(y_test,y_pred)\n",
    "RMSE = np.sqrt(metrics.mean_squared_error(y_test,y_pred))\n",
    "print('MAE:',MAE)\n",
    "print('RMSE:',RMSE)"
   ]
  },
  {
   "cell_type": "code",
   "execution_count": 72,
   "metadata": {
    "id": "vuWQhoIZtJvq"
   },
   "outputs": [
    {
     "data": {
      "text/plain": [
       "0.7700898441841616"
      ]
     },
     "execution_count": 72,
     "metadata": {},
     "output_type": "execute_result"
    }
   ],
   "source": [
    "#R-Squared value\n",
    "metrics.r2_score(y_test,y_pred)"
   ]
  },
  {
   "cell_type": "markdown",
   "metadata": {
    "id": "g_uLgGawOd1t"
   },
   "source": [
    "**Hyperparameter Tuning**"
   ]
  },
  {
   "cell_type": "code",
   "execution_count": 73,
   "metadata": {
    "executionInfo": {
     "elapsed": 19750,
     "status": "ok",
     "timestamp": 1607014375064,
     "user": {
      "displayName": "Shaheel Roshankhan",
      "photoUrl": "",
      "userId": "16400899464928356374"
     },
     "user_tz": -330
    },
    "id": "e6OtXtoAOcdD"
   },
   "outputs": [],
   "source": [
    "from sklearn.model_selection import RandomizedSearchCV"
   ]
  },
  {
   "cell_type": "code",
   "execution_count": 74,
   "metadata": {
    "executionInfo": {
     "elapsed": 1146,
     "status": "ok",
     "timestamp": 1607017630558,
     "user": {
      "displayName": "Shaheel Roshankhan",
      "photoUrl": "",
      "userId": "16400899464928356374"
     },
     "user_tz": -330
    },
    "id": "B4dX84rOWndT"
   },
   "outputs": [],
   "source": [
    "#Learning_Rate\n",
    "learning_rate = [0.1,0.05,0.025,0.01,0.005,0.002]\n",
    "\n",
    "# Number of trees\n",
    "n_estimators = [int(x) for x in np.linspace(start = 100, stop = 1200, num = 12)]\n",
    "\n",
    "# Minimum number of samples required to split a node\n",
    "min_samples_split = [2, 5, 10, 15, 100]\n",
    "\n",
    "# Minimum number of samples required at each leaf node\n",
    "min_samples_leaf = [1, 2, 5, 10]\n",
    "\n",
    "# Maximum number of levels in tree\n",
    "max_depth = [int(x) for x in np.linspace(5, 30, num = 6)]\n",
    "\n",
    "# Number of features to consider at every split\n",
    "max_features = ['auto','sqrt']\n",
    "subsample = [0.8,0.81,0.82,0.83,0.84,0.85,0.9,1]"
   ]
  },
  {
   "cell_type": "code",
   "execution_count": 75,
   "metadata": {
    "executionInfo": {
     "elapsed": 20568,
     "status": "ok",
     "timestamp": 1607014376060,
     "user": {
      "displayName": "Shaheel Roshankhan",
      "photoUrl": "",
      "userId": "16400899464928356374"
     },
     "user_tz": -330
    },
    "id": "TQvaI_LZXh4O"
   },
   "outputs": [],
   "source": [
    "#Create the random grid\n",
    "random_grid = {'learning_rate':learning_rate,\n",
    "               'n_estimators':n_estimators,\n",
    "               'min_samples_split':min_samples_split,\n",
    "               'min_samples_leaf':min_samples_leaf,\n",
    "               'max_depth':max_depth,\n",
    "               'max_features':max_features,\n",
    "               'subsample':subsample}"
   ]
  },
  {
   "cell_type": "code",
   "execution_count": 77,
   "metadata": {
    "executionInfo": {
     "elapsed": 20561,
     "status": "ok",
     "timestamp": 1607014376061,
     "user": {
      "displayName": "Shaheel Roshankhan",
      "photoUrl": "",
      "userId": "16400899464928356374"
     },
     "user_tz": -330
    },
    "id": "yO0nDaoNX1bO"
   },
   "outputs": [],
   "source": [
    "# Random search of parameters, using 5 fold cross validation, \n",
    "# search across 75 different combinations\n",
    "gbm_random = RandomizedSearchCV(estimator = gbm_model, \n",
    "                               param_distributions = random_grid,\n",
    "                               scoring='neg_mean_squared_error', \n",
    "                               n_iter = 15, cv = 5, \n",
    "                               verbose=10, \n",
    "                               random_state=99, \n",
    "                               n_jobs = -1)"
   ]
  },
  {
   "cell_type": "code",
   "execution_count": 78,
   "metadata": {
    "colab": {
     "base_uri": "https://localhost:8080/"
    },
    "executionInfo": {
     "elapsed": 510095,
     "status": "ok",
     "timestamp": 1607015869032,
     "user": {
      "displayName": "Shaheel Roshankhan",
      "photoUrl": "",
      "userId": "16400899464928356374"
     },
     "user_tz": -330
    },
    "id": "ZDFItHGDYNii",
    "outputId": "4af9ec69-cd9c-4e64-c24c-672c56d21234"
   },
   "outputs": [
    {
     "name": "stdout",
     "output_type": "stream",
     "text": [
      "Fitting 5 folds for each of 15 candidates, totalling 75 fits\n"
     ]
    },
    {
     "name": "stderr",
     "output_type": "stream",
     "text": [
      "[Parallel(n_jobs=-1)]: Using backend LokyBackend with 4 concurrent workers.\n",
      "[Parallel(n_jobs=-1)]: Done   5 tasks      | elapsed:   29.7s\n",
      "[Parallel(n_jobs=-1)]: Done  10 tasks      | elapsed:   45.1s\n",
      "[Parallel(n_jobs=-1)]: Done  17 tasks      | elapsed:  1.4min\n",
      "[Parallel(n_jobs=-1)]: Done  24 tasks      | elapsed:  4.6min\n",
      "[Parallel(n_jobs=-1)]: Done  33 tasks      | elapsed: 10.5min\n",
      "[Parallel(n_jobs=-1)]: Done  42 tasks      | elapsed: 13.7min\n",
      "[Parallel(n_jobs=-1)]: Done  53 tasks      | elapsed: 15.2min\n",
      "[Parallel(n_jobs=-1)]: Done  64 tasks      | elapsed: 15.7min\n",
      "[Parallel(n_jobs=-1)]: Done  75 out of  75 | elapsed: 21.1min finished\n"
     ]
    },
    {
     "data": {
      "text/plain": [
       "RandomizedSearchCV(cv=5, error_score='raise-deprecating',\n",
       "                   estimator=GradientBoostingRegressor(alpha=0.9,\n",
       "                                                       criterion='friedman_mse',\n",
       "                                                       init=None,\n",
       "                                                       learning_rate=0.1,\n",
       "                                                       loss='ls', max_depth=3,\n",
       "                                                       max_features=None,\n",
       "                                                       max_leaf_nodes=None,\n",
       "                                                       min_impurity_decrease=0.0,\n",
       "                                                       min_impurity_split=None,\n",
       "                                                       min_samples_leaf=1,\n",
       "                                                       min_samples_split=2,\n",
       "                                                       min_weight_fraction_leaf=0.0,\n",
       "                                                       n_estimators=100,...\n",
       "                                        'max_depth': [5, 10, 15, 20, 25, 30],\n",
       "                                        'max_features': ['auto', 'sqrt'],\n",
       "                                        'min_samples_leaf': [1, 2, 5, 10],\n",
       "                                        'min_samples_split': [2, 5, 10, 15,\n",
       "                                                              100],\n",
       "                                        'n_estimators': [100, 200, 300, 400,\n",
       "                                                         500, 600, 700, 800,\n",
       "                                                         900, 1000, 1100,\n",
       "                                                         1200],\n",
       "                                        'subsample': [0.8, 0.81, 0.82, 0.83,\n",
       "                                                      0.84, 0.85, 0.9, 1]},\n",
       "                   pre_dispatch='2*n_jobs', random_state=99, refit=True,\n",
       "                   return_train_score=False, scoring='neg_mean_squared_error',\n",
       "                   verbose=10)"
      ]
     },
     "execution_count": 78,
     "metadata": {},
     "output_type": "execute_result"
    }
   ],
   "source": [
    "gbm_random.fit(x_train,y_train)"
   ]
  },
  {
   "cell_type": "code",
   "execution_count": 79,
   "metadata": {},
   "outputs": [
    {
     "data": {
      "text/plain": [
       "{'subsample': 0.8,\n",
       " 'n_estimators': 1100,\n",
       " 'min_samples_split': 100,\n",
       " 'min_samples_leaf': 2,\n",
       " 'max_features': 'auto',\n",
       " 'max_depth': 10,\n",
       " 'learning_rate': 0.01}"
      ]
     },
     "execution_count": 79,
     "metadata": {},
     "output_type": "execute_result"
    }
   ],
   "source": [
    "#Best parameters after Random Search\n",
    "gbm_random.best_params_"
   ]
  },
  {
   "cell_type": "code",
   "execution_count": 80,
   "metadata": {},
   "outputs": [],
   "source": [
    "#Make new prediction using tuned model\n",
    "y_pred = gbm_random.predict(x_test)"
   ]
  },
  {
   "cell_type": "code",
   "execution_count": 81,
   "metadata": {},
   "outputs": [
    {
     "name": "stdout",
     "output_type": "stream",
     "text": [
      "MAE: 1165.6759464918316\n",
      "RMSE: 1734.3821336205228\n"
     ]
    }
   ],
   "source": [
    "#Model Evaluation\n",
    "MAE = metrics.mean_absolute_error(y_test,y_pred)\n",
    "RMSE = np.sqrt(metrics.mean_squared_error(y_test,y_pred))\n",
    "print('MAE:',MAE)\n",
    "print('RMSE:',RMSE)"
   ]
  },
  {
   "cell_type": "code",
   "execution_count": 82,
   "metadata": {},
   "outputs": [
    {
     "data": {
      "text/plain": [
       "0.8456788938183363"
      ]
     },
     "execution_count": 82,
     "metadata": {},
     "output_type": "execute_result"
    }
   ],
   "source": [
    "#R-Squared value\n",
    "metrics.r2_score(y_test,y_pred)"
   ]
  },
  {
   "cell_type": "markdown",
   "metadata": {
    "id": "95kyZAATpu64"
   },
   "source": [
    "**Save the model to reuse it again**\n"
   ]
  },
  {
   "cell_type": "code",
   "execution_count": 83,
   "metadata": {
    "executionInfo": {
     "elapsed": 1393,
     "status": "ok",
     "timestamp": 1607016695487,
     "user": {
      "displayName": "Shaheel Roshankhan",
      "photoUrl": "",
      "userId": "16400899464928356374"
     },
     "user_tz": -330
    },
    "id": "edKjML5Hpfhc"
   },
   "outputs": [],
   "source": [
    "import pickle\n",
    "file = open('flight_.pkl','wb')\n",
    "pickle.dump(gbm_random,file)\n"
   ]
  },
  {
   "cell_type": "code",
   "execution_count": 84,
   "metadata": {
    "executionInfo": {
     "elapsed": 4920,
     "status": "ok",
     "timestamp": 1607017340568,
     "user": {
      "displayName": "Shaheel Roshankhan",
      "photoUrl": "",
      "userId": "16400899464928356374"
     },
     "user_tz": -330
    },
    "id": "SLC3EcGOqLti"
   },
   "outputs": [],
   "source": [
    "model = open('flight_gbm_reg.pkl','rb')\n",
    "saved_model = pickle.load(model)"
   ]
  },
  {
   "cell_type": "code",
   "execution_count": 85,
   "metadata": {
    "executionInfo": {
     "elapsed": 8114,
     "status": "ok",
     "timestamp": 1607017367246,
     "user": {
      "displayName": "Shaheel Roshankhan",
      "photoUrl": "",
      "userId": "16400899464928356374"
     },
     "user_tz": -330
    },
    "id": "DI-kX0tJsnhQ"
   },
   "outputs": [],
   "source": [
    "test_pred = saved_model.predict(x_test)\n"
   ]
  },
  {
   "cell_type": "code",
   "execution_count": 86,
   "metadata": {
    "colab": {
     "base_uri": "https://localhost:8080/"
    },
    "executionInfo": {
     "elapsed": 1863,
     "status": "ok",
     "timestamp": 1607017374838,
     "user": {
      "displayName": "Shaheel Roshankhan",
      "photoUrl": "",
      "userId": "16400899464928356374"
     },
     "user_tz": -330
    },
    "id": "MVO7n3tGstxd",
    "outputId": "a64c3ec0-acf7-40bf-f062-172f296e5330"
   },
   "outputs": [
    {
     "data": {
      "text/plain": [
       "0.8456788938183363"
      ]
     },
     "execution_count": 86,
     "metadata": {},
     "output_type": "execute_result"
    }
   ],
   "source": [
    "metrics.r2_score(y_test, test_pred)\n"
   ]
  },
  {
   "cell_type": "code",
   "execution_count": null,
   "metadata": {},
   "outputs": [],
   "source": []
  }
 ],
 "metadata": {
  "colab": {
   "authorship_tag": "ABX9TyMXHfspnopOvQLjheNeWlud",
   "collapsed_sections": [],
   "mount_file_id": "1xNx4vyr-CvuFuhXjNjQBEox7wfSBTk7J",
   "name": "flight_fare.ipynb",
   "provenance": []
  },
  "kernelspec": {
   "display_name": "Python 3",
   "language": "python",
   "name": "python3"
  },
  "language_info": {
   "codemirror_mode": {
    "name": "ipython",
    "version": 3
   },
   "file_extension": ".py",
   "mimetype": "text/x-python",
   "name": "python",
   "nbconvert_exporter": "python",
   "pygments_lexer": "ipython3",
   "version": "3.7.3"
  }
 },
 "nbformat": 4,
 "nbformat_minor": 1
}
